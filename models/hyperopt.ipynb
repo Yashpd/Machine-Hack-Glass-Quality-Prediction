{
 "cells": [
  {
   "cell_type": "code",
   "execution_count": 1,
   "metadata": {},
   "outputs": [],
   "source": [
    "import numpy as np\n",
    "import pandas as pd\n",
    "import matplotlib.pyplot as plt\n",
    "\n",
    "%matplotlib inline"
   ]
  },
  {
   "cell_type": "code",
   "execution_count": 2,
   "metadata": {},
   "outputs": [],
   "source": [
    "train = pd.read_csv('Train.csv')\n",
    "test = pd.read_csv('Test.csv')"
   ]
  },
  {
   "cell_type": "code",
   "execution_count": 3,
   "metadata": {},
   "outputs": [
    {
     "name": "stdout",
     "output_type": "stream",
     "text": [
      "<class 'pandas.core.frame.DataFrame'>\n",
      "RangeIndex: 1358 entries, 0 to 1357\n",
      "Data columns (total 16 columns):\n",
      " #   Column               Non-Null Count  Dtype  \n",
      "---  ------               --------------  -----  \n",
      " 0   grade_A_Component_1  1358 non-null   int64  \n",
      " 1   grade_A_Component_2  1358 non-null   int64  \n",
      " 2   max_luminosity       1358 non-null   int64  \n",
      " 3   thickness            1358 non-null   int64  \n",
      " 4   xmin                 1358 non-null   int64  \n",
      " 5   xmax                 1358 non-null   int64  \n",
      " 6   ymin                 1358 non-null   int64  \n",
      " 7   ymax                 1358 non-null   int64  \n",
      " 8   pixel_area           1358 non-null   int64  \n",
      " 9   log_area             1358 non-null   float64\n",
      " 10  x_component_1        1358 non-null   int64  \n",
      " 11  x_component_2        1358 non-null   int64  \n",
      " 12  x_component_3        1358 non-null   int64  \n",
      " 13  x_component_4        1358 non-null   int64  \n",
      " 14  x_component_5        1358 non-null   int64  \n",
      " 15  class                1358 non-null   int64  \n",
      "dtypes: float64(1), int64(15)\n",
      "memory usage: 169.9 KB\n"
     ]
    }
   ],
   "source": [
    "train.info()"
   ]
  },
  {
   "cell_type": "code",
   "execution_count": 4,
   "metadata": {},
   "outputs": [],
   "source": [
    "from sklearn.model_selection import train_test_split"
   ]
  },
  {
   "cell_type": "code",
   "execution_count": 5,
   "metadata": {},
   "outputs": [],
   "source": [
    "train2 = train.iloc[:1000,:]\n",
    "val = train.iloc[1000:,:]"
   ]
  },
  {
   "cell_type": "code",
   "execution_count": 6,
   "metadata": {},
   "outputs": [
    {
     "data": {
      "text/plain": [
       "(1000, 16)"
      ]
     },
     "execution_count": 6,
     "metadata": {},
     "output_type": "execute_result"
    }
   ],
   "source": [
    "train2.shape"
   ]
  },
  {
   "cell_type": "code",
   "execution_count": 7,
   "metadata": {
    "scrolled": true
   },
   "outputs": [
    {
     "data": {
      "text/plain": [
       "(358, 16)"
      ]
     },
     "execution_count": 7,
     "metadata": {},
     "output_type": "execute_result"
    }
   ],
   "source": [
    "val.shape"
   ]
  },
  {
   "cell_type": "code",
   "execution_count": 8,
   "metadata": {
    "scrolled": true
   },
   "outputs": [],
   "source": [
    "# from featexp import get_univariate_plots\n",
    "\n",
    "# get_univariate_plots(data=train,target_col='class',data_test=val,bins=10)"
   ]
  },
  {
   "cell_type": "code",
   "execution_count": 9,
   "metadata": {},
   "outputs": [],
   "source": [
    "# from featexp import get_trend_stats\n",
    "\n",
    "# stats = get_trend_stats(data=train,target_col='class',data_test=val)"
   ]
  },
  {
   "cell_type": "code",
   "execution_count": 10,
   "metadata": {},
   "outputs": [],
   "source": [
    "# stats"
   ]
  },
  {
   "cell_type": "code",
   "execution_count": 11,
   "metadata": {},
   "outputs": [
    {
     "data": {
      "text/plain": [
       "Index(['grade_A_Component_1', 'grade_A_Component_2', 'max_luminosity',\n",
       "       'thickness', 'xmin', 'xmax', 'ymin', 'ymax', 'pixel_area', 'log_area',\n",
       "       'x_component_1', 'x_component_2', 'x_component_3', 'x_component_4',\n",
       "       'x_component_5', 'class'],\n",
       "      dtype='object')"
      ]
     },
     "execution_count": 11,
     "metadata": {},
     "output_type": "execute_result"
    }
   ],
   "source": [
    "train.columns"
   ]
  },
  {
   "cell_type": "code",
   "execution_count": 12,
   "metadata": {},
   "outputs": [],
   "source": [
    "features_list = ['max_luminosity','thickness', 'xmin', 'xmax','ymin', 'ymax', 'pixel_area', 'log_area','x_component_1', 'x_component_2', 'x_component_3', 'x_component_4','x_component_5']"
   ]
  },
  {
   "cell_type": "code",
   "execution_count": 13,
   "metadata": {},
   "outputs": [],
   "source": [
    "X = train[features_list]\n",
    "y = train['class']\n",
    "test2 = test[features_list]"
   ]
  },
  {
   "cell_type": "code",
   "execution_count": 14,
   "metadata": {},
   "outputs": [],
   "source": [
    "X_train, X_val, y_train, y_val = train_test_split(X,y,test_size=0.2,random_state=101)"
   ]
  },
  {
   "cell_type": "code",
   "execution_count": 15,
   "metadata": {},
   "outputs": [],
   "source": [
    "from sklearn.preprocessing import StandardScaler"
   ]
  },
  {
   "cell_type": "code",
   "execution_count": 16,
   "metadata": {},
   "outputs": [],
   "source": [
    "sc = StandardScaler()\n",
    "\n",
    "X_train = sc.fit_transform(X_train)\n",
    "X_val = sc.fit_transform(X_val)"
   ]
  },
  {
   "cell_type": "code",
   "execution_count": 17,
   "metadata": {},
   "outputs": [],
   "source": [
    "from xgboost import XGBClassifier"
   ]
  },
  {
   "cell_type": "code",
   "execution_count": 18,
   "metadata": {},
   "outputs": [],
   "source": [
    "import hyperopt\n",
    "from hyperopt import fmin, tpe, hp, STATUS_OK, Trials"
   ]
  },
  {
   "cell_type": "code",
   "execution_count": 21,
   "metadata": {},
   "outputs": [],
   "source": [
    "space={ 'max_depth': 16.0,\n",
    "        'gamma': hp.uniform('gamma', 0,9),\n",
    "        'learning_rate': hp.uniform('learning_rate',0.1,1),\n",
    "        'reg_alpha': 41.0,\n",
    "        'reg_lambda': 0.9255906450789302,\n",
    "        'colsample_bytree': 0.9975162562350268,\n",
    "        'min_child_weight': 7.0,\n",
    "        'n_estimators': 120\n",
    "    }"
   ]
  },
  {
   "cell_type": "code",
   "execution_count": 22,
   "metadata": {},
   "outputs": [],
   "source": [
    "from sklearn.metrics import log_loss"
   ]
  },
  {
   "cell_type": "code",
   "execution_count": 23,
   "metadata": {},
   "outputs": [],
   "source": [
    "def hyperparameter_tuning(space):\n",
    "    clf= XGBClassifier(n_estimators =space['n_estimators'], max_depth = int(space['max_depth']), gamma = space['gamma'],\n",
    "                         reg_alpha = int(space['reg_alpha']),min_child_weight=space['min_child_weight'],\n",
    "                         colsample_bytree=space['colsample_bytree'])\n",
    "    evaluation = [( X_train, y_train), ( X_val, y_val)]\n",
    "    \n",
    "    clf.fit(X_train, y_train,\n",
    "            eval_set=evaluation, eval_metric=\"rmse\",\n",
    "            early_stopping_rounds=10,verbose=False)\n",
    "\n",
    "    pred = clf.predict_proba(X_val)\n",
    "    loss_log = log_loss(y_val, pred)\n",
    "    print (\"SCORE:\", loss_log)\n",
    "    #change the metric if you like\n",
    "    return {'loss': loss_log, 'status': STATUS_OK }\n"
   ]
  },
  {
   "cell_type": "code",
   "execution_count": null,
   "metadata": {},
   "outputs": [
    {
     "name": "stdout",
     "output_type": "stream",
     "text": [
      "SCORE:                                                 \n",
      "0.534965504618252                                      \n",
      "SCORE:                                                                          \n",
      "0.5340263426084729                                                              \n",
      "SCORE:                                                                           \n",
      "0.5323036927182008                                                               \n",
      "SCORE:                                                                           \n",
      "0.5336995136869305                                                               \n",
      "SCORE:                                                                           \n",
      "0.5345089973553139                                                               \n",
      "SCORE:                                                                           \n",
      "0.534965504618252                                                                \n",
      "SCORE:                                                                           \n",
      "0.5350766623502269                                                               \n",
      "SCORE:                                                                           \n",
      "0.537000468110337                                                                \n",
      "SCORE:                                                                           \n",
      "0.5377567025339779                                                               \n",
      "SCORE:                                                                           \n",
      "0.5376104125205208                                                               \n",
      "SCORE:                                                                            \n",
      "0.5234433958197341                                                                \n",
      "SCORE:                                                                            \n",
      "0.5350766623502269                                                                \n",
      "SCORE:                                                                            \n",
      "0.5376104125205208                                                                \n",
      "SCORE:                                                                            \n",
      "0.5384961899150821                                                                \n",
      " 14%|█▍        | 14/100 [03:46<22:01, 15.37s/trial, best loss: 0.5234433958197341]"
     ]
    }
   ],
   "source": [
    "trials = Trials()\n",
    "best = fmin(fn=hyperparameter_tuning,\n",
    "            space=space,\n",
    "            algo=tpe.suggest,\n",
    "            max_evals=100,\n",
    "            trials=trials)\n",
    "\n",
    "print (best)"
   ]
  },
  {
   "cell_type": "code",
   "execution_count": null,
   "metadata": {},
   "outputs": [],
   "source": [
    "# {'colsample_bytree': 0.9975162562350268, 'gamma': 4.365372330371842, 'max_depth': 16.0, 'min_child_weight': 7.0, 'reg_alpha': 41.0, 'reg_lambda': 0.9255906450789302}"
   ]
  },
  {
   "cell_type": "code",
   "execution_count": 20,
   "metadata": {},
   "outputs": [],
   "source": [
    "xgbc.fit(X_train,y_train)\n",
    "xgbc_pred = xgbc.predict_proba(X_val)\n",
    "xgbc_score = log_loss(y_val,xgbc_pred)"
   ]
  },
  {
   "cell_type": "code",
   "execution_count": 21,
   "metadata": {},
   "outputs": [
    {
     "name": "stdout",
     "output_type": "stream",
     "text": [
      "0.3149532938721891\n"
     ]
    }
   ],
   "source": [
    "print(xgbc_score)"
   ]
  },
  {
   "cell_type": "code",
   "execution_count": 22,
   "metadata": {},
   "outputs": [
    {
     "name": "stdout",
     "output_type": "stream",
     "text": [
      "0.034643937 max_luminosity\n",
      "0.04134077 thickness\n",
      "0.034019727 xmin\n",
      "0.030967478 xmax\n",
      "0.0249384 ymin\n",
      "0.021259068 ymax\n",
      "0.02315349 pixel_area\n",
      "0.025714822 log_area\n",
      "0.16891061 x_component_1\n",
      "0.16693996 x_component_2\n",
      "0.2335242 x_component_3\n",
      "0.10340897 x_component_4\n",
      "0.09117854 x_component_5\n"
     ]
    }
   ],
   "source": [
    "for feat_imp,param in zip(xgbc.feature_importances_,features_list):\n",
    "    print(feat_imp,param)"
   ]
  },
  {
   "cell_type": "code",
   "execution_count": 23,
   "metadata": {
    "scrolled": true
   },
   "outputs": [],
   "source": [
    "xgbc.fit(X,y)\n",
    "predis = xgbc.predict_proba(test2)"
   ]
  },
  {
   "cell_type": "code",
   "execution_count": 24,
   "metadata": {},
   "outputs": [],
   "source": [
    "predics = pd.DataFrame(predis,columns=['1','2'])\n",
    "\n",
    "filename = 'submit_fxp_3.xlsx'\n",
    "predics.to_excel(filename,index=False)"
   ]
  },
  {
   "cell_type": "markdown",
   "metadata": {},
   "source": [
    "####Inference = Better results on same model with dropping feats - grade_comp_a_1/2"
   ]
  },
  {
   "cell_type": "code",
   "execution_count": null,
   "metadata": {},
   "outputs": [],
   "source": []
  }
 ],
 "metadata": {
  "kernelspec": {
   "display_name": "Python 3",
   "language": "python",
   "name": "python3"
  },
  "language_info": {
   "codemirror_mode": {
    "name": "ipython",
    "version": 3
   },
   "file_extension": ".py",
   "mimetype": "text/x-python",
   "name": "python",
   "nbconvert_exporter": "python",
   "pygments_lexer": "ipython3",
   "version": "3.7.3"
  }
 },
 "nbformat": 4,
 "nbformat_minor": 2
}
