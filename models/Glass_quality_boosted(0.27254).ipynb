{
 "cells": [
  {
   "cell_type": "code",
   "execution_count": 1,
   "metadata": {},
   "outputs": [],
   "source": [
    "import numpy as np\n",
    "import pandas as pd\n",
    "import matplotlib.pyplot as plt\n",
    "import seaborn as sns\n",
    "\n",
    "%matplotlib inline"
   ]
  },
  {
   "cell_type": "code",
   "execution_count": 2,
   "metadata": {},
   "outputs": [],
   "source": [
    "train = pd.read_csv('Train.csv')\n",
    "test = pd.read_csv('Test.csv')"
   ]
  },
  {
   "cell_type": "code",
   "execution_count": 3,
   "metadata": {},
   "outputs": [
    {
     "data": {
      "text/html": [
       "<div>\n",
       "<style scoped>\n",
       "    .dataframe tbody tr th:only-of-type {\n",
       "        vertical-align: middle;\n",
       "    }\n",
       "\n",
       "    .dataframe tbody tr th {\n",
       "        vertical-align: top;\n",
       "    }\n",
       "\n",
       "    .dataframe thead th {\n",
       "        text-align: right;\n",
       "    }\n",
       "</style>\n",
       "<table border=\"1\" class=\"dataframe\">\n",
       "  <thead>\n",
       "    <tr style=\"text-align: right;\">\n",
       "      <th></th>\n",
       "      <th>grade_A_Component_1</th>\n",
       "      <th>grade_A_Component_2</th>\n",
       "      <th>max_luminosity</th>\n",
       "      <th>thickness</th>\n",
       "      <th>xmin</th>\n",
       "      <th>xmax</th>\n",
       "      <th>ymin</th>\n",
       "      <th>ymax</th>\n",
       "      <th>pixel_area</th>\n",
       "      <th>log_area</th>\n",
       "      <th>x_component_1</th>\n",
       "      <th>x_component_2</th>\n",
       "      <th>x_component_3</th>\n",
       "      <th>x_component_4</th>\n",
       "      <th>x_component_5</th>\n",
       "      <th>class</th>\n",
       "    </tr>\n",
       "  </thead>\n",
       "  <tbody>\n",
       "    <tr>\n",
       "      <th>0</th>\n",
       "      <td>0</td>\n",
       "      <td>1</td>\n",
       "      <td>150</td>\n",
       "      <td>36</td>\n",
       "      <td>144</td>\n",
       "      <td>172</td>\n",
       "      <td>947225</td>\n",
       "      <td>947332</td>\n",
       "      <td>439</td>\n",
       "      <td>439.099273</td>\n",
       "      <td>0</td>\n",
       "      <td>0</td>\n",
       "      <td>1</td>\n",
       "      <td>0</td>\n",
       "      <td>0</td>\n",
       "      <td>1</td>\n",
       "    </tr>\n",
       "    <tr>\n",
       "      <th>1</th>\n",
       "      <td>1</td>\n",
       "      <td>0</td>\n",
       "      <td>134</td>\n",
       "      <td>55</td>\n",
       "      <td>1144</td>\n",
       "      <td>1152</td>\n",
       "      <td>2379058</td>\n",
       "      <td>2379624</td>\n",
       "      <td>329</td>\n",
       "      <td>329.205616</td>\n",
       "      <td>1</td>\n",
       "      <td>0</td>\n",
       "      <td>0</td>\n",
       "      <td>0</td>\n",
       "      <td>0</td>\n",
       "      <td>1</td>\n",
       "    </tr>\n",
       "    <tr>\n",
       "      <th>2</th>\n",
       "      <td>1</td>\n",
       "      <td>0</td>\n",
       "      <td>135</td>\n",
       "      <td>65</td>\n",
       "      <td>950</td>\n",
       "      <td>974</td>\n",
       "      <td>1038442</td>\n",
       "      <td>1036754</td>\n",
       "      <td>300</td>\n",
       "      <td>300.120598</td>\n",
       "      <td>0</td>\n",
       "      <td>0</td>\n",
       "      <td>0</td>\n",
       "      <td>0</td>\n",
       "      <td>0</td>\n",
       "      <td>2</td>\n",
       "    </tr>\n",
       "    <tr>\n",
       "      <th>3</th>\n",
       "      <td>0</td>\n",
       "      <td>1</td>\n",
       "      <td>123</td>\n",
       "      <td>35</td>\n",
       "      <td>41</td>\n",
       "      <td>220</td>\n",
       "      <td>1705580</td>\n",
       "      <td>1705604</td>\n",
       "      <td>6803</td>\n",
       "      <td>6803.778622</td>\n",
       "      <td>0</td>\n",
       "      <td>0</td>\n",
       "      <td>1</td>\n",
       "      <td>0</td>\n",
       "      <td>0</td>\n",
       "      <td>1</td>\n",
       "    </tr>\n",
       "    <tr>\n",
       "      <th>4</th>\n",
       "      <td>1</td>\n",
       "      <td>0</td>\n",
       "      <td>138</td>\n",
       "      <td>69</td>\n",
       "      <td>462</td>\n",
       "      <td>466</td>\n",
       "      <td>1088124</td>\n",
       "      <td>1086579</td>\n",
       "      <td>251</td>\n",
       "      <td>251.401943</td>\n",
       "      <td>0</td>\n",
       "      <td>0</td>\n",
       "      <td>0</td>\n",
       "      <td>0</td>\n",
       "      <td>0</td>\n",
       "      <td>2</td>\n",
       "    </tr>\n",
       "  </tbody>\n",
       "</table>\n",
       "</div>"
      ],
      "text/plain": [
       "   grade_A_Component_1  grade_A_Component_2  max_luminosity  thickness  xmin  \\\n",
       "0                    0                    1             150         36   144   \n",
       "1                    1                    0             134         55  1144   \n",
       "2                    1                    0             135         65   950   \n",
       "3                    0                    1             123         35    41   \n",
       "4                    1                    0             138         69   462   \n",
       "\n",
       "   xmax     ymin     ymax  pixel_area     log_area  x_component_1  \\\n",
       "0   172   947225   947332         439   439.099273              0   \n",
       "1  1152  2379058  2379624         329   329.205616              1   \n",
       "2   974  1038442  1036754         300   300.120598              0   \n",
       "3   220  1705580  1705604        6803  6803.778622              0   \n",
       "4   466  1088124  1086579         251   251.401943              0   \n",
       "\n",
       "   x_component_2  x_component_3  x_component_4  x_component_5  class  \n",
       "0              0              1              0              0      1  \n",
       "1              0              0              0              0      1  \n",
       "2              0              0              0              0      2  \n",
       "3              0              1              0              0      1  \n",
       "4              0              0              0              0      2  "
      ]
     },
     "execution_count": 3,
     "metadata": {},
     "output_type": "execute_result"
    }
   ],
   "source": [
    "train.head()"
   ]
  },
  {
   "cell_type": "code",
   "execution_count": 4,
   "metadata": {},
   "outputs": [
    {
     "name": "stdout",
     "output_type": "stream",
     "text": [
      "<class 'pandas.core.frame.DataFrame'>\n",
      "RangeIndex: 1358 entries, 0 to 1357\n",
      "Data columns (total 16 columns):\n",
      " #   Column               Non-Null Count  Dtype  \n",
      "---  ------               --------------  -----  \n",
      " 0   grade_A_Component_1  1358 non-null   int64  \n",
      " 1   grade_A_Component_2  1358 non-null   int64  \n",
      " 2   max_luminosity       1358 non-null   int64  \n",
      " 3   thickness            1358 non-null   int64  \n",
      " 4   xmin                 1358 non-null   int64  \n",
      " 5   xmax                 1358 non-null   int64  \n",
      " 6   ymin                 1358 non-null   int64  \n",
      " 7   ymax                 1358 non-null   int64  \n",
      " 8   pixel_area           1358 non-null   int64  \n",
      " 9   log_area             1358 non-null   float64\n",
      " 10  x_component_1        1358 non-null   int64  \n",
      " 11  x_component_2        1358 non-null   int64  \n",
      " 12  x_component_3        1358 non-null   int64  \n",
      " 13  x_component_4        1358 non-null   int64  \n",
      " 14  x_component_5        1358 non-null   int64  \n",
      " 15  class                1358 non-null   int64  \n",
      "dtypes: float64(1), int64(15)\n",
      "memory usage: 169.9 KB\n"
     ]
    }
   ],
   "source": [
    "train.info()"
   ]
  },
  {
   "cell_type": "code",
   "execution_count": 5,
   "metadata": {},
   "outputs": [
    {
     "data": {
      "text/plain": [
       "Index(['grade_A_Component_1', 'grade_A_Component_2', 'max_luminosity',\n",
       "       'thickness', 'xmin', 'xmax', 'ymin', 'ymax', 'pixel_area', 'log_area',\n",
       "       'x_component_1', 'x_component_2', 'x_component_3', 'x_component_4',\n",
       "       'x_component_5', 'class'],\n",
       "      dtype='object')"
      ]
     },
     "execution_count": 5,
     "metadata": {},
     "output_type": "execute_result"
    }
   ],
   "source": [
    "train.columns"
   ]
  },
  {
   "cell_type": "code",
   "execution_count": 6,
   "metadata": {},
   "outputs": [],
   "source": [
    "X = train.iloc[:,:-1]\n",
    "y = train.iloc[:,-1]"
   ]
  },
  {
   "cell_type": "code",
   "execution_count": 7,
   "metadata": {},
   "outputs": [],
   "source": [
    "from sklearn.preprocessing import StandardScaler\n",
    "from sklearn.model_selection import  GridSearchCV, train_test_split\n",
    "from sklearn.metrics import log_loss"
   ]
  },
  {
   "cell_type": "code",
   "execution_count": 8,
   "metadata": {},
   "outputs": [],
   "source": [
    "sc = StandardScaler()"
   ]
  },
  {
   "cell_type": "code",
   "execution_count": 9,
   "metadata": {},
   "outputs": [],
   "source": [
    "X = sc.fit_transform(X)\n",
    "test = sc.fit_transform(test)"
   ]
  },
  {
   "cell_type": "code",
   "execution_count": 10,
   "metadata": {},
   "outputs": [],
   "source": [
    "X_train, X_val, y_train, y_val = train_test_split(X,y,test_size=0.2,random_state=101)"
   ]
  },
  {
   "cell_type": "code",
   "execution_count": 116,
   "metadata": {},
   "outputs": [],
   "source": [
    "def model_pred(model):\n",
    "    model.fit(X_train,y_train)\n",
    "    model_pred = model.predict_proba(X_val)\n",
    "    model_score = log_loss(y_val,model_pred)\n",
    "    return model_score, model_pred"
   ]
  },
  {
   "cell_type": "code",
   "execution_count": 12,
   "metadata": {},
   "outputs": [
    {
     "name": "stderr",
     "output_type": "stream",
     "text": [
      "/home/yash/anaconda3/lib/python3.7/site-packages/dask/config.py:168: YAMLLoadWarning: calling yaml.load() without Loader=... is deprecated, as the default Loader is unsafe. Please read https://msg.pyyaml.org/load for full details.\n",
      "  data = yaml.load(f.read()) or {}\n",
      "/home/yash/anaconda3/lib/python3.7/site-packages/dask/dataframe/utils.py:13: FutureWarning: pandas.util.testing is deprecated. Use the functions in the public API at pandas.testing instead.\n",
      "  import pandas.util.testing as tm\n",
      "/home/yash/anaconda3/lib/python3.7/site-packages/distributed/config.py:20: YAMLLoadWarning: calling yaml.load() without Loader=... is deprecated, as the default Loader is unsafe. Please read https://msg.pyyaml.org/load for full details.\n",
      "  defaults = yaml.load(f)\n"
     ]
    }
   ],
   "source": [
    "from sklearn.tree import DecisionTreeClassifier\n",
    "from sklearn.ensemble import RandomForestClassifier, ExtraTreesClassifier\n",
    "from xgboost import XGBClassifier\n",
    "from lightgbm import LGBMClassifier\n",
    "from ngboost import NGBClassifier"
   ]
  },
  {
   "cell_type": "code",
   "execution_count": 16,
   "metadata": {},
   "outputs": [],
   "source": [
    "def griddy_boi(model,param_grid):\n",
    "    grid_search = GridSearchCV(model,param_grid,cv=3,n_jobs = -1, scoring='neg_log_loss')\n",
    "    grid_search.fit(X_train,y_train)\n",
    "    cvres = grid_search.cv_results_\n",
    "    for mean_score,params in zip(cvres['mean_test_score'],cvres['params']):\n",
    "        print((-mean_score),params)\n",
    "    "
   ]
  },
  {
   "cell_type": "code",
   "execution_count": 23,
   "metadata": {},
   "outputs": [],
   "source": [
    "def predis(model):\n",
    "    model.fit(X,y)\n",
    "    model_preds = model.predict_proba(test)\n",
    "    return model_preds"
   ]
  },
  {
   "cell_type": "markdown",
   "metadata": {},
   "source": [
    "## Decision Trees"
   ]
  },
  {
   "cell_type": "code",
   "execution_count": 14,
   "metadata": {},
   "outputs": [],
   "source": [
    "dc = DecisionTreeClassifier()"
   ]
  },
  {
   "cell_type": "code",
   "execution_count": 18,
   "metadata": {},
   "outputs": [],
   "source": [
    "dc_param_grid = [\n",
    " \n",
    "    {'max_depth':[10,20,30],'min_samples_split':[100,150,200,250,300,400]}\n",
    "]"
   ]
  },
  {
   "cell_type": "code",
   "execution_count": 19,
   "metadata": {},
   "outputs": [
    {
     "name": "stdout",
     "output_type": "stream",
     "text": [
      "0.4547623591290113 {'max_depth': 10, 'min_samples_split': 100}\n",
      "0.34312235421651405 {'max_depth': 10, 'min_samples_split': 150}\n",
      "0.33098956912951927 {'max_depth': 10, 'min_samples_split': 200}\n",
      "0.3415657521283273 {'max_depth': 10, 'min_samples_split': 250}\n",
      "0.3415657521283273 {'max_depth': 10, 'min_samples_split': 300}\n",
      "0.35712818556606324 {'max_depth': 10, 'min_samples_split': 400}\n",
      "0.45693119500566465 {'max_depth': 20, 'min_samples_split': 100}\n",
      "0.34312235421651405 {'max_depth': 20, 'min_samples_split': 150}\n",
      "0.33098956912951927 {'max_depth': 20, 'min_samples_split': 200}\n",
      "0.3415657521283273 {'max_depth': 20, 'min_samples_split': 250}\n",
      "0.3415657521283273 {'max_depth': 20, 'min_samples_split': 300}\n",
      "0.35712818556606324 {'max_depth': 20, 'min_samples_split': 400}\n",
      "0.457099389975633 {'max_depth': 30, 'min_samples_split': 100}\n",
      "0.34312235421651405 {'max_depth': 30, 'min_samples_split': 150}\n",
      "0.33098956912951927 {'max_depth': 30, 'min_samples_split': 200}\n",
      "0.3415657521283273 {'max_depth': 30, 'min_samples_split': 250}\n",
      "0.3415657521283273 {'max_depth': 30, 'min_samples_split': 300}\n",
      "0.35712818556606324 {'max_depth': 30, 'min_samples_split': 400}\n"
     ]
    }
   ],
   "source": [
    "griddy_boi(dc,dc_param_grid)"
   ]
  },
  {
   "cell_type": "code",
   "execution_count": 49,
   "metadata": {},
   "outputs": [],
   "source": [
    "dtc = DecisionTreeClassifier(min_samples_split=150,max_depth=20)"
   ]
  },
  {
   "cell_type": "code",
   "execution_count": 117,
   "metadata": {},
   "outputs": [],
   "source": [
    "dtc_score,dtc_val_pred = model_pred(dtc)"
   ]
  },
  {
   "cell_type": "code",
   "execution_count": 51,
   "metadata": {},
   "outputs": [
    {
     "data": {
      "text/plain": [
       "0.2980457820898426"
      ]
     },
     "execution_count": 51,
     "metadata": {},
     "output_type": "execute_result"
    }
   ],
   "source": [
    "dtc_score"
   ]
  },
  {
   "cell_type": "code",
   "execution_count": 52,
   "metadata": {},
   "outputs": [],
   "source": [
    "dtc_predis = predis(dtc)"
   ]
  },
  {
   "cell_type": "code",
   "execution_count": 53,
   "metadata": {},
   "outputs": [
    {
     "data": {
      "text/plain": [
       "array([[1.        , 0.        ],\n",
       "       [0.08064516, 0.91935484],\n",
       "       [1.        , 0.        ],\n",
       "       ...,\n",
       "       [1.        , 0.        ],\n",
       "       [1.        , 0.        ],\n",
       "       [1.        , 0.        ]])"
      ]
     },
     "execution_count": 53,
     "metadata": {},
     "output_type": "execute_result"
    }
   ],
   "source": [
    "dtc_predis"
   ]
  },
  {
   "cell_type": "markdown",
   "metadata": {},
   "source": [
    "## Random Forest"
   ]
  },
  {
   "cell_type": "code",
   "execution_count": 54,
   "metadata": {},
   "outputs": [],
   "source": [
    "rf = RandomForestClassifier()"
   ]
  },
  {
   "cell_type": "code",
   "execution_count": 55,
   "metadata": {},
   "outputs": [],
   "source": [
    "rf_param_grid = [\n",
    "    {'max_depth':[10,20,50,100]},\n",
    "    {'max_depth':[10,20,50,100],'min_samples_split':[10,100,200]},\n",
    "    {'max_depth':[10,20,50,100],'min_samples_split':[10,100,200],'min_samples_leaf':[2,10,50,100]},\n",
    "    {'max_depth':[10,20,50,100],'min_samples_split':[10,100,200],'min_samples_leaf':[2,10,50,100],'n_estimators':[50,100,200,500]},\n",
    "    {'max_depth':[10,20,50,100],'min_samples_split':[10,100,200],'min_samples_leaf':[2,10,50,100],'n_estimators':[50,100,200,500],'bootstrap':[False]},\n",
    "\n",
    "]"
   ]
  },
  {
   "cell_type": "code",
   "execution_count": 56,
   "metadata": {
    "collapsed": true
   },
   "outputs": [
    {
     "name": "stdout",
     "output_type": "stream",
     "text": [
      "0.36282928532998454 {'max_depth': 10}\n",
      "0.35770618606226506 {'max_depth': 20}\n",
      "0.3586216515622906 {'max_depth': 50}\n",
      "0.3577536867349656 {'max_depth': 100}\n",
      "0.37937084091234624 {'max_depth': 10, 'min_samples_split': 10}\n",
      "0.4196886270515419 {'max_depth': 10, 'min_samples_split': 100}\n",
      "0.4684292364096099 {'max_depth': 10, 'min_samples_split': 200}\n",
      "0.3669584697004578 {'max_depth': 20, 'min_samples_split': 10}\n",
      "0.42109517279750536 {'max_depth': 20, 'min_samples_split': 100}\n",
      "0.47175751437777097 {'max_depth': 20, 'min_samples_split': 200}\n",
      "0.3657889551626388 {'max_depth': 50, 'min_samples_split': 10}\n",
      "0.4283137543076366 {'max_depth': 50, 'min_samples_split': 100}\n",
      "0.4753548809357735 {'max_depth': 50, 'min_samples_split': 200}\n",
      "0.36817024744448995 {'max_depth': 100, 'min_samples_split': 10}\n",
      "0.4224301981269702 {'max_depth': 100, 'min_samples_split': 100}\n",
      "0.4716876921356598 {'max_depth': 100, 'min_samples_split': 200}\n",
      "0.37671931424512106 {'max_depth': 10, 'min_samples_leaf': 2, 'min_samples_split': 10}\n",
      "0.4277725235327858 {'max_depth': 10, 'min_samples_leaf': 2, 'min_samples_split': 100}\n",
      "0.4733974559933208 {'max_depth': 10, 'min_samples_leaf': 2, 'min_samples_split': 200}\n",
      "0.40636239150926956 {'max_depth': 10, 'min_samples_leaf': 10, 'min_samples_split': 10}\n",
      "0.4356160513165442 {'max_depth': 10, 'min_samples_leaf': 10, 'min_samples_split': 100}\n",
      "0.4749314768778114 {'max_depth': 10, 'min_samples_leaf': 10, 'min_samples_split': 200}\n",
      "0.5445814286658192 {'max_depth': 10, 'min_samples_leaf': 50, 'min_samples_split': 10}\n",
      "0.5394347968638016 {'max_depth': 10, 'min_samples_leaf': 50, 'min_samples_split': 100}\n",
      "0.5479717792069249 {'max_depth': 10, 'min_samples_leaf': 50, 'min_samples_split': 200}\n",
      "0.5953978385280169 {'max_depth': 10, 'min_samples_leaf': 100, 'min_samples_split': 10}\n",
      "0.5978408919525803 {'max_depth': 10, 'min_samples_leaf': 100, 'min_samples_split': 100}\n",
      "0.5955958387372431 {'max_depth': 10, 'min_samples_leaf': 100, 'min_samples_split': 200}\n",
      "0.36780095565659315 {'max_depth': 20, 'min_samples_leaf': 2, 'min_samples_split': 10}\n",
      "0.4223532168691518 {'max_depth': 20, 'min_samples_leaf': 2, 'min_samples_split': 100}\n",
      "0.4727880205570556 {'max_depth': 20, 'min_samples_leaf': 2, 'min_samples_split': 200}\n",
      "0.41043220006510533 {'max_depth': 20, 'min_samples_leaf': 10, 'min_samples_split': 10}\n",
      "0.43428573571514234 {'max_depth': 20, 'min_samples_leaf': 10, 'min_samples_split': 100}\n",
      "0.47089115988016256 {'max_depth': 20, 'min_samples_leaf': 10, 'min_samples_split': 200}\n",
      "0.5436509050181345 {'max_depth': 20, 'min_samples_leaf': 50, 'min_samples_split': 10}\n",
      "0.5423161658675917 {'max_depth': 20, 'min_samples_leaf': 50, 'min_samples_split': 100}\n",
      "0.5553352260343521 {'max_depth': 20, 'min_samples_leaf': 50, 'min_samples_split': 200}\n",
      "0.5963045265022103 {'max_depth': 20, 'min_samples_leaf': 100, 'min_samples_split': 10}\n",
      "0.5976644589510837 {'max_depth': 20, 'min_samples_leaf': 100, 'min_samples_split': 100}\n",
      "0.5943099629953292 {'max_depth': 20, 'min_samples_leaf': 100, 'min_samples_split': 200}\n",
      "0.37004393009295833 {'max_depth': 50, 'min_samples_leaf': 2, 'min_samples_split': 10}\n",
      "0.4270751810051443 {'max_depth': 50, 'min_samples_leaf': 2, 'min_samples_split': 100}\n",
      "0.46723938090471046 {'max_depth': 50, 'min_samples_leaf': 2, 'min_samples_split': 200}\n",
      "0.4107371243852258 {'max_depth': 50, 'min_samples_leaf': 10, 'min_samples_split': 10}\n",
      "0.4320662706597059 {'max_depth': 50, 'min_samples_leaf': 10, 'min_samples_split': 100}\n",
      "0.47461768980149116 {'max_depth': 50, 'min_samples_leaf': 10, 'min_samples_split': 200}\n",
      "0.5424538429989324 {'max_depth': 50, 'min_samples_leaf': 50, 'min_samples_split': 10}\n",
      "0.5364831784366992 {'max_depth': 50, 'min_samples_leaf': 50, 'min_samples_split': 100}\n",
      "0.5498288651180976 {'max_depth': 50, 'min_samples_leaf': 50, 'min_samples_split': 200}\n",
      "0.5980515647126646 {'max_depth': 50, 'min_samples_leaf': 100, 'min_samples_split': 10}\n",
      "0.5976075261915019 {'max_depth': 50, 'min_samples_leaf': 100, 'min_samples_split': 100}\n",
      "0.5957571795867462 {'max_depth': 50, 'min_samples_leaf': 100, 'min_samples_split': 200}\n",
      "0.3710809366496985 {'max_depth': 100, 'min_samples_leaf': 2, 'min_samples_split': 10}\n",
      "0.4250767687184354 {'max_depth': 100, 'min_samples_leaf': 2, 'min_samples_split': 100}\n",
      "0.469515378376464 {'max_depth': 100, 'min_samples_leaf': 2, 'min_samples_split': 200}\n",
      "0.4089207508940163 {'max_depth': 100, 'min_samples_leaf': 10, 'min_samples_split': 10}\n",
      "0.43730942925972466 {'max_depth': 100, 'min_samples_leaf': 10, 'min_samples_split': 100}\n",
      "0.46895542912093174 {'max_depth': 100, 'min_samples_leaf': 10, 'min_samples_split': 200}\n",
      "0.538153176761682 {'max_depth': 100, 'min_samples_leaf': 50, 'min_samples_split': 10}\n",
      "0.5403695291091838 {'max_depth': 100, 'min_samples_leaf': 50, 'min_samples_split': 100}\n",
      "0.5511028183328698 {'max_depth': 100, 'min_samples_leaf': 50, 'min_samples_split': 200}\n",
      "0.596566681360217 {'max_depth': 100, 'min_samples_leaf': 100, 'min_samples_split': 10}\n",
      "0.5943039324784253 {'max_depth': 100, 'min_samples_leaf': 100, 'min_samples_split': 100}\n",
      "0.595114282353581 {'max_depth': 100, 'min_samples_leaf': 100, 'min_samples_split': 200}\n",
      "0.37475007015235046 {'max_depth': 10, 'min_samples_leaf': 2, 'min_samples_split': 10, 'n_estimators': 50}\n",
      "0.3763115976532909 {'max_depth': 10, 'min_samples_leaf': 2, 'min_samples_split': 10, 'n_estimators': 100}\n",
      "0.37248610570835144 {'max_depth': 10, 'min_samples_leaf': 2, 'min_samples_split': 10, 'n_estimators': 200}\n",
      "0.37466520142695686 {'max_depth': 10, 'min_samples_leaf': 2, 'min_samples_split': 10, 'n_estimators': 500}\n",
      "0.4299971679355248 {'max_depth': 10, 'min_samples_leaf': 2, 'min_samples_split': 100, 'n_estimators': 50}\n",
      "0.4217139879216203 {'max_depth': 10, 'min_samples_leaf': 2, 'min_samples_split': 100, 'n_estimators': 100}\n",
      "0.4242746466842746 {'max_depth': 10, 'min_samples_leaf': 2, 'min_samples_split': 100, 'n_estimators': 200}\n",
      "0.4228821067526704 {'max_depth': 10, 'min_samples_leaf': 2, 'min_samples_split': 100, 'n_estimators': 500}\n",
      "0.466923623548781 {'max_depth': 10, 'min_samples_leaf': 2, 'min_samples_split': 200, 'n_estimators': 50}\n",
      "0.4637585129777387 {'max_depth': 10, 'min_samples_leaf': 2, 'min_samples_split': 200, 'n_estimators': 100}\n",
      "0.4699845364870215 {'max_depth': 10, 'min_samples_leaf': 2, 'min_samples_split': 200, 'n_estimators': 200}\n",
      "0.4694861746261212 {'max_depth': 10, 'min_samples_leaf': 2, 'min_samples_split': 200, 'n_estimators': 500}\n",
      "0.40845440446982106 {'max_depth': 10, 'min_samples_leaf': 10, 'min_samples_split': 10, 'n_estimators': 50}\n",
      "0.40961211124934543 {'max_depth': 10, 'min_samples_leaf': 10, 'min_samples_split': 10, 'n_estimators': 100}\n",
      "0.41209516322457995 {'max_depth': 10, 'min_samples_leaf': 10, 'min_samples_split': 10, 'n_estimators': 200}\n",
      "0.40876430012219056 {'max_depth': 10, 'min_samples_leaf': 10, 'min_samples_split': 10, 'n_estimators': 500}\n",
      "0.43026161144457814 {'max_depth': 10, 'min_samples_leaf': 10, 'min_samples_split': 100, 'n_estimators': 50}\n",
      "0.4353820320976584 {'max_depth': 10, 'min_samples_leaf': 10, 'min_samples_split': 100, 'n_estimators': 100}\n",
      "0.432178430196472 {'max_depth': 10, 'min_samples_leaf': 10, 'min_samples_split': 100, 'n_estimators': 200}\n",
      "0.4348020668490162 {'max_depth': 10, 'min_samples_leaf': 10, 'min_samples_split': 100, 'n_estimators': 500}\n",
      "0.4670790568918632 {'max_depth': 10, 'min_samples_leaf': 10, 'min_samples_split': 200, 'n_estimators': 50}\n",
      "0.47060963238356285 {'max_depth': 10, 'min_samples_leaf': 10, 'min_samples_split': 200, 'n_estimators': 100}\n",
      "0.4759439701301185 {'max_depth': 10, 'min_samples_leaf': 10, 'min_samples_split': 200, 'n_estimators': 200}\n",
      "0.4703638671403543 {'max_depth': 10, 'min_samples_leaf': 10, 'min_samples_split': 200, 'n_estimators': 500}\n",
      "0.542115398297085 {'max_depth': 10, 'min_samples_leaf': 50, 'min_samples_split': 10, 'n_estimators': 50}\n",
      "0.5425127617896588 {'max_depth': 10, 'min_samples_leaf': 50, 'min_samples_split': 10, 'n_estimators': 100}\n",
      "0.5383680327815686 {'max_depth': 10, 'min_samples_leaf': 50, 'min_samples_split': 10, 'n_estimators': 200}\n",
      "0.5385868529243089 {'max_depth': 10, 'min_samples_leaf': 50, 'min_samples_split': 10, 'n_estimators': 500}\n",
      "0.540689110833398 {'max_depth': 10, 'min_samples_leaf': 50, 'min_samples_split': 100, 'n_estimators': 50}\n",
      "0.5381611565498478 {'max_depth': 10, 'min_samples_leaf': 50, 'min_samples_split': 100, 'n_estimators': 100}\n",
      "0.5434294529535587 {'max_depth': 10, 'min_samples_leaf': 50, 'min_samples_split': 100, 'n_estimators': 200}\n",
      "0.5393491622130215 {'max_depth': 10, 'min_samples_leaf': 50, 'min_samples_split': 100, 'n_estimators': 500}\n",
      "0.5538881365352957 {'max_depth': 10, 'min_samples_leaf': 50, 'min_samples_split': 200, 'n_estimators': 50}\n",
      "0.5513584598981749 {'max_depth': 10, 'min_samples_leaf': 50, 'min_samples_split': 200, 'n_estimators': 100}\n",
      "0.5482138418430978 {'max_depth': 10, 'min_samples_leaf': 50, 'min_samples_split': 200, 'n_estimators': 200}\n",
      "0.5508050534727748 {'max_depth': 10, 'min_samples_leaf': 50, 'min_samples_split': 200, 'n_estimators': 500}\n",
      "0.5971069289990275 {'max_depth': 10, 'min_samples_leaf': 100, 'min_samples_split': 10, 'n_estimators': 50}\n",
      "0.5953528450816229 {'max_depth': 10, 'min_samples_leaf': 100, 'min_samples_split': 10, 'n_estimators': 100}\n",
      "0.5958422349969736 {'max_depth': 10, 'min_samples_leaf': 100, 'min_samples_split': 10, 'n_estimators': 200}\n",
      "0.5966349475678289 {'max_depth': 10, 'min_samples_leaf': 100, 'min_samples_split': 10, 'n_estimators': 500}\n",
      "0.5962627011889168 {'max_depth': 10, 'min_samples_leaf': 100, 'min_samples_split': 100, 'n_estimators': 50}\n",
      "0.5977609356814003 {'max_depth': 10, 'min_samples_leaf': 100, 'min_samples_split': 100, 'n_estimators': 100}\n",
      "0.596385824200275 {'max_depth': 10, 'min_samples_leaf': 100, 'min_samples_split': 100, 'n_estimators': 200}\n",
      "0.5960042693418435 {'max_depth': 10, 'min_samples_leaf': 100, 'min_samples_split': 100, 'n_estimators': 500}\n",
      "0.5939013656417993 {'max_depth': 10, 'min_samples_leaf': 100, 'min_samples_split': 200, 'n_estimators': 50}\n",
      "0.5937569809614472 {'max_depth': 10, 'min_samples_leaf': 100, 'min_samples_split': 200, 'n_estimators': 100}\n",
      "0.5955704832652784 {'max_depth': 10, 'min_samples_leaf': 100, 'min_samples_split': 200, 'n_estimators': 200}\n",
      "0.597707453724268 {'max_depth': 10, 'min_samples_leaf': 100, 'min_samples_split': 200, 'n_estimators': 500}\n",
      "0.3711996503652597 {'max_depth': 20, 'min_samples_leaf': 2, 'min_samples_split': 10, 'n_estimators': 50}\n",
      "0.36845728706837727 {'max_depth': 20, 'min_samples_leaf': 2, 'min_samples_split': 10, 'n_estimators': 100}\n",
      "0.37079746568725175 {'max_depth': 20, 'min_samples_leaf': 2, 'min_samples_split': 10, 'n_estimators': 200}\n",
      "0.36720890259938704 {'max_depth': 20, 'min_samples_leaf': 2, 'min_samples_split': 10, 'n_estimators': 500}\n",
      "0.4160777538036325 {'max_depth': 20, 'min_samples_leaf': 2, 'min_samples_split': 100, 'n_estimators': 50}\n",
      "0.42598271281952876 {'max_depth': 20, 'min_samples_leaf': 2, 'min_samples_split': 100, 'n_estimators': 100}\n",
      "0.4240677792345326 {'max_depth': 20, 'min_samples_leaf': 2, 'min_samples_split': 100, 'n_estimators': 200}\n",
      "0.42596923375218904 {'max_depth': 20, 'min_samples_leaf': 2, 'min_samples_split': 100, 'n_estimators': 500}\n",
      "0.47120116672625256 {'max_depth': 20, 'min_samples_leaf': 2, 'min_samples_split': 200, 'n_estimators': 50}\n",
      "0.4687201160193721 {'max_depth': 20, 'min_samples_leaf': 2, 'min_samples_split': 200, 'n_estimators': 100}\n",
      "0.46398824931644383 {'max_depth': 20, 'min_samples_leaf': 2, 'min_samples_split': 200, 'n_estimators': 200}\n",
      "0.46754139084917606 {'max_depth': 20, 'min_samples_leaf': 2, 'min_samples_split': 200, 'n_estimators': 500}\n",
      "0.40838478627677327 {'max_depth': 20, 'min_samples_leaf': 10, 'min_samples_split': 10, 'n_estimators': 50}\n",
      "0.40299677463656725 {'max_depth': 20, 'min_samples_leaf': 10, 'min_samples_split': 10, 'n_estimators': 100}\n",
      "0.40450537147445903 {'max_depth': 20, 'min_samples_leaf': 10, 'min_samples_split': 10, 'n_estimators': 200}\n",
      "0.4052262068318379 {'max_depth': 20, 'min_samples_leaf': 10, 'min_samples_split': 10, 'n_estimators': 500}\n",
      "0.44510142141738557 {'max_depth': 20, 'min_samples_leaf': 10, 'min_samples_split': 100, 'n_estimators': 50}\n",
      "0.43274189084959636 {'max_depth': 20, 'min_samples_leaf': 10, 'min_samples_split': 100, 'n_estimators': 100}\n",
      "0.4291956152653431 {'max_depth': 20, 'min_samples_leaf': 10, 'min_samples_split': 100, 'n_estimators': 200}\n",
      "0.4311230042540568 {'max_depth': 20, 'min_samples_leaf': 10, 'min_samples_split': 100, 'n_estimators': 500}\n",
      "0.4653913063947375 {'max_depth': 20, 'min_samples_leaf': 10, 'min_samples_split': 200, 'n_estimators': 50}\n",
      "0.46909799947608916 {'max_depth': 20, 'min_samples_leaf': 10, 'min_samples_split': 200, 'n_estimators': 100}\n",
      "0.47424936662930633 {'max_depth': 20, 'min_samples_leaf': 10, 'min_samples_split': 200, 'n_estimators': 200}\n",
      "0.47229538186808623 {'max_depth': 20, 'min_samples_leaf': 10, 'min_samples_split': 200, 'n_estimators': 500}\n",
      "0.536958119311732 {'max_depth': 20, 'min_samples_leaf': 50, 'min_samples_split': 10, 'n_estimators': 50}\n",
      "0.5403706486137115 {'max_depth': 20, 'min_samples_leaf': 50, 'min_samples_split': 10, 'n_estimators': 100}\n",
      "0.5399477685479064 {'max_depth': 20, 'min_samples_leaf': 50, 'min_samples_split': 10, 'n_estimators': 200}\n",
      "0.5409522699414258 {'max_depth': 20, 'min_samples_leaf': 50, 'min_samples_split': 10, 'n_estimators': 500}\n",
      "0.5425894367436881 {'max_depth': 20, 'min_samples_leaf': 50, 'min_samples_split': 100, 'n_estimators': 50}\n",
      "0.5433525363997639 {'max_depth': 20, 'min_samples_leaf': 50, 'min_samples_split': 100, 'n_estimators': 100}\n",
      "0.5405086540535442 {'max_depth': 20, 'min_samples_leaf': 50, 'min_samples_split': 100, 'n_estimators': 200}\n",
      "0.5402534658420359 {'max_depth': 20, 'min_samples_leaf': 50, 'min_samples_split': 100, 'n_estimators': 500}\n",
      "0.548366885611074 {'max_depth': 20, 'min_samples_leaf': 50, 'min_samples_split': 200, 'n_estimators': 50}\n",
      "0.5481316841674939 {'max_depth': 20, 'min_samples_leaf': 50, 'min_samples_split': 200, 'n_estimators': 100}\n",
      "0.5508982544807105 {'max_depth': 20, 'min_samples_leaf': 50, 'min_samples_split': 200, 'n_estimators': 200}\n",
      "0.5510568534536262 {'max_depth': 20, 'min_samples_leaf': 50, 'min_samples_split': 200, 'n_estimators': 500}\n",
      "0.5999424468850862 {'max_depth': 20, 'min_samples_leaf': 100, 'min_samples_split': 10, 'n_estimators': 50}\n",
      "0.595905577882878 {'max_depth': 20, 'min_samples_leaf': 100, 'min_samples_split': 10, 'n_estimators': 100}\n",
      "0.5952795055028255 {'max_depth': 20, 'min_samples_leaf': 100, 'min_samples_split': 10, 'n_estimators': 200}\n",
      "0.5970194185180051 {'max_depth': 20, 'min_samples_leaf': 100, 'min_samples_split': 10, 'n_estimators': 500}\n",
      "0.5957719899809396 {'max_depth': 20, 'min_samples_leaf': 100, 'min_samples_split': 100, 'n_estimators': 50}\n",
      "0.5962925935638735 {'max_depth': 20, 'min_samples_leaf': 100, 'min_samples_split': 100, 'n_estimators': 100}\n",
      "0.5977160405744962 {'max_depth': 20, 'min_samples_leaf': 100, 'min_samples_split': 100, 'n_estimators': 200}\n",
      "0.5947378037118177 {'max_depth': 20, 'min_samples_leaf': 100, 'min_samples_split': 100, 'n_estimators': 500}\n",
      "0.597328651951799 {'max_depth': 20, 'min_samples_leaf': 100, 'min_samples_split': 200, 'n_estimators': 50}\n",
      "0.5954307056792024 {'max_depth': 20, 'min_samples_leaf': 100, 'min_samples_split': 200, 'n_estimators': 100}\n",
      "0.5956446398136146 {'max_depth': 20, 'min_samples_leaf': 100, 'min_samples_split': 200, 'n_estimators': 200}\n",
      "0.597713083411292 {'max_depth': 20, 'min_samples_leaf': 100, 'min_samples_split': 200, 'n_estimators': 500}\n",
      "0.368493944689742 {'max_depth': 50, 'min_samples_leaf': 2, 'min_samples_split': 10, 'n_estimators': 50}\n",
      "0.36913575711349794 {'max_depth': 50, 'min_samples_leaf': 2, 'min_samples_split': 10, 'n_estimators': 100}\n",
      "0.3656389082973092 {'max_depth': 50, 'min_samples_leaf': 2, 'min_samples_split': 10, 'n_estimators': 200}\n",
      "0.3680501889164529 {'max_depth': 50, 'min_samples_leaf': 2, 'min_samples_split': 10, 'n_estimators': 500}\n",
      "0.4309775366434015 {'max_depth': 50, 'min_samples_leaf': 2, 'min_samples_split': 100, 'n_estimators': 50}\n",
      "0.42095735423292396 {'max_depth': 50, 'min_samples_leaf': 2, 'min_samples_split': 100, 'n_estimators': 100}\n",
      "0.4208379753439386 {'max_depth': 50, 'min_samples_leaf': 2, 'min_samples_split': 100, 'n_estimators': 200}\n",
      "0.42479545385547784 {'max_depth': 50, 'min_samples_leaf': 2, 'min_samples_split': 100, 'n_estimators': 500}\n",
      "0.4767748459830048 {'max_depth': 50, 'min_samples_leaf': 2, 'min_samples_split': 200, 'n_estimators': 50}\n",
      "0.47643734035031216 {'max_depth': 50, 'min_samples_leaf': 2, 'min_samples_split': 200, 'n_estimators': 100}\n",
      "0.46859316094182585 {'max_depth': 50, 'min_samples_leaf': 2, 'min_samples_split': 200, 'n_estimators': 200}\n",
      "0.4694294799157759 {'max_depth': 50, 'min_samples_leaf': 2, 'min_samples_split': 200, 'n_estimators': 500}\n",
      "0.4126561401831024 {'max_depth': 50, 'min_samples_leaf': 10, 'min_samples_split': 10, 'n_estimators': 50}\n",
      "0.4030785555623229 {'max_depth': 50, 'min_samples_leaf': 10, 'min_samples_split': 10, 'n_estimators': 100}\n",
      "0.4064398109582103 {'max_depth': 50, 'min_samples_leaf': 10, 'min_samples_split': 10, 'n_estimators': 200}\n",
      "0.40734251046746456 {'max_depth': 50, 'min_samples_leaf': 10, 'min_samples_split': 10, 'n_estimators': 500}\n",
      "0.43473358834285475 {'max_depth': 50, 'min_samples_leaf': 10, 'min_samples_split': 100, 'n_estimators': 50}\n",
      "0.43666089262836955 {'max_depth': 50, 'min_samples_leaf': 10, 'min_samples_split': 100, 'n_estimators': 100}\n",
      "0.43488128839581397 {'max_depth': 50, 'min_samples_leaf': 10, 'min_samples_split': 100, 'n_estimators': 200}\n",
      "0.43534316875949153 {'max_depth': 50, 'min_samples_leaf': 10, 'min_samples_split': 100, 'n_estimators': 500}\n",
      "0.46228114608429866 {'max_depth': 50, 'min_samples_leaf': 10, 'min_samples_split': 200, 'n_estimators': 50}\n",
      "0.468842208371024 {'max_depth': 50, 'min_samples_leaf': 10, 'min_samples_split': 200, 'n_estimators': 100}\n",
      "0.472391653467591 {'max_depth': 50, 'min_samples_leaf': 10, 'min_samples_split': 200, 'n_estimators': 200}\n",
      "0.47006018913087955 {'max_depth': 50, 'min_samples_leaf': 10, 'min_samples_split': 200, 'n_estimators': 500}\n",
      "0.5438983656385633 {'max_depth': 50, 'min_samples_leaf': 50, 'min_samples_split': 10, 'n_estimators': 50}\n",
      "0.5393517222686044 {'max_depth': 50, 'min_samples_leaf': 50, 'min_samples_split': 10, 'n_estimators': 100}\n",
      "0.5406246614199436 {'max_depth': 50, 'min_samples_leaf': 50, 'min_samples_split': 10, 'n_estimators': 200}\n",
      "0.5423842445406282 {'max_depth': 50, 'min_samples_leaf': 50, 'min_samples_split': 10, 'n_estimators': 500}\n",
      "0.5398994266299394 {'max_depth': 50, 'min_samples_leaf': 50, 'min_samples_split': 100, 'n_estimators': 50}\n",
      "0.5436607841848334 {'max_depth': 50, 'min_samples_leaf': 50, 'min_samples_split': 100, 'n_estimators': 100}\n",
      "0.5429048029199313 {'max_depth': 50, 'min_samples_leaf': 50, 'min_samples_split': 100, 'n_estimators': 200}\n",
      "0.5402425072816293 {'max_depth': 50, 'min_samples_leaf': 50, 'min_samples_split': 100, 'n_estimators': 500}\n",
      "0.5634568893712523 {'max_depth': 50, 'min_samples_leaf': 50, 'min_samples_split': 200, 'n_estimators': 50}\n",
      "0.554745158600953 {'max_depth': 50, 'min_samples_leaf': 50, 'min_samples_split': 200, 'n_estimators': 100}\n",
      "0.5519492556372132 {'max_depth': 50, 'min_samples_leaf': 50, 'min_samples_split': 200, 'n_estimators': 200}\n",
      "0.5520030810560433 {'max_depth': 50, 'min_samples_leaf': 50, 'min_samples_split': 200, 'n_estimators': 500}\n",
      "0.5959458692455467 {'max_depth': 50, 'min_samples_leaf': 100, 'min_samples_split': 10, 'n_estimators': 50}\n",
      "0.5978260289792069 {'max_depth': 50, 'min_samples_leaf': 100, 'min_samples_split': 10, 'n_estimators': 100}\n",
      "0.5968731891829894 {'max_depth': 50, 'min_samples_leaf': 100, 'min_samples_split': 10, 'n_estimators': 200}\n",
      "0.5960485811975583 {'max_depth': 50, 'min_samples_leaf': 100, 'min_samples_split': 10, 'n_estimators': 500}\n",
      "0.5978532807273338 {'max_depth': 50, 'min_samples_leaf': 100, 'min_samples_split': 100, 'n_estimators': 50}\n",
      "0.6001031116578281 {'max_depth': 50, 'min_samples_leaf': 100, 'min_samples_split': 100, 'n_estimators': 100}\n",
      "0.5964670510294711 {'max_depth': 50, 'min_samples_leaf': 100, 'min_samples_split': 100, 'n_estimators': 200}\n",
      "0.5955523538377495 {'max_depth': 50, 'min_samples_leaf': 100, 'min_samples_split': 100, 'n_estimators': 500}\n",
      "0.5969432697467743 {'max_depth': 50, 'min_samples_leaf': 100, 'min_samples_split': 200, 'n_estimators': 50}\n",
      "0.597722462646626 {'max_depth': 50, 'min_samples_leaf': 100, 'min_samples_split': 200, 'n_estimators': 100}\n",
      "0.5971577496040947 {'max_depth': 50, 'min_samples_leaf': 100, 'min_samples_split': 200, 'n_estimators': 200}\n",
      "0.5962434960232502 {'max_depth': 50, 'min_samples_leaf': 100, 'min_samples_split': 200, 'n_estimators': 500}\n",
      "0.3709538763897216 {'max_depth': 100, 'min_samples_leaf': 2, 'min_samples_split': 10, 'n_estimators': 50}\n",
      "0.36902211434491866 {'max_depth': 100, 'min_samples_leaf': 2, 'min_samples_split': 10, 'n_estimators': 100}\n",
      "0.3662008454730537 {'max_depth': 100, 'min_samples_leaf': 2, 'min_samples_split': 10, 'n_estimators': 200}\n",
      "0.36934522666977626 {'max_depth': 100, 'min_samples_leaf': 2, 'min_samples_split': 10, 'n_estimators': 500}\n",
      "0.42505546006445666 {'max_depth': 100, 'min_samples_leaf': 2, 'min_samples_split': 100, 'n_estimators': 50}\n",
      "0.4284491302673832 {'max_depth': 100, 'min_samples_leaf': 2, 'min_samples_split': 100, 'n_estimators': 100}\n",
      "0.4263070707395474 {'max_depth': 100, 'min_samples_leaf': 2, 'min_samples_split': 100, 'n_estimators': 200}\n",
      "0.4257065079181102 {'max_depth': 100, 'min_samples_leaf': 2, 'min_samples_split': 100, 'n_estimators': 500}\n",
      "0.46814416095309636 {'max_depth': 100, 'min_samples_leaf': 2, 'min_samples_split': 200, 'n_estimators': 50}\n",
      "0.4674653047323227 {'max_depth': 100, 'min_samples_leaf': 2, 'min_samples_split': 200, 'n_estimators': 100}\n",
      "0.4665121072798417 {'max_depth': 100, 'min_samples_leaf': 2, 'min_samples_split': 200, 'n_estimators': 200}\n",
      "0.46682518939969214 {'max_depth': 100, 'min_samples_leaf': 2, 'min_samples_split': 200, 'n_estimators': 500}\n",
      "0.40837224994225024 {'max_depth': 100, 'min_samples_leaf': 10, 'min_samples_split': 10, 'n_estimators': 50}\n",
      "0.40140715577874575 {'max_depth': 100, 'min_samples_leaf': 10, 'min_samples_split': 10, 'n_estimators': 100}\n",
      "0.40946529187285136 {'max_depth': 100, 'min_samples_leaf': 10, 'min_samples_split': 10, 'n_estimators': 200}\n",
      "0.40531922057184433 {'max_depth': 100, 'min_samples_leaf': 10, 'min_samples_split': 10, 'n_estimators': 500}\n",
      "0.42912979013712943 {'max_depth': 100, 'min_samples_leaf': 10, 'min_samples_split': 100, 'n_estimators': 50}\n",
      "0.43577497820884065 {'max_depth': 100, 'min_samples_leaf': 10, 'min_samples_split': 100, 'n_estimators': 100}\n",
      "0.42627486789011765 {'max_depth': 100, 'min_samples_leaf': 10, 'min_samples_split': 100, 'n_estimators': 200}\n",
      "0.43339070012047126 {'max_depth': 100, 'min_samples_leaf': 10, 'min_samples_split': 100, 'n_estimators': 500}\n",
      "0.4691883727372295 {'max_depth': 100, 'min_samples_leaf': 10, 'min_samples_split': 200, 'n_estimators': 50}\n",
      "0.4762871707620309 {'max_depth': 100, 'min_samples_leaf': 10, 'min_samples_split': 200, 'n_estimators': 100}\n",
      "0.4720744147285958 {'max_depth': 100, 'min_samples_leaf': 10, 'min_samples_split': 200, 'n_estimators': 200}\n",
      "0.4699504936119834 {'max_depth': 100, 'min_samples_leaf': 10, 'min_samples_split': 200, 'n_estimators': 500}\n",
      "0.5407504264017965 {'max_depth': 100, 'min_samples_leaf': 50, 'min_samples_split': 10, 'n_estimators': 50}\n",
      "0.5412797781450314 {'max_depth': 100, 'min_samples_leaf': 50, 'min_samples_split': 10, 'n_estimators': 100}\n",
      "0.5398328996412943 {'max_depth': 100, 'min_samples_leaf': 50, 'min_samples_split': 10, 'n_estimators': 200}\n",
      "0.5391541269898436 {'max_depth': 100, 'min_samples_leaf': 50, 'min_samples_split': 10, 'n_estimators': 500}\n",
      "0.5397694083160681 {'max_depth': 100, 'min_samples_leaf': 50, 'min_samples_split': 100, 'n_estimators': 50}\n",
      "0.5353472534017812 {'max_depth': 100, 'min_samples_leaf': 50, 'min_samples_split': 100, 'n_estimators': 100}\n",
      "0.54031605221576 {'max_depth': 100, 'min_samples_leaf': 50, 'min_samples_split': 100, 'n_estimators': 200}\n",
      "0.5390655720234867 {'max_depth': 100, 'min_samples_leaf': 50, 'min_samples_split': 100, 'n_estimators': 500}\n",
      "0.5546479441914546 {'max_depth': 100, 'min_samples_leaf': 50, 'min_samples_split': 200, 'n_estimators': 50}\n",
      "0.5499431746772402 {'max_depth': 100, 'min_samples_leaf': 50, 'min_samples_split': 200, 'n_estimators': 100}\n",
      "0.5518728676964691 {'max_depth': 100, 'min_samples_leaf': 50, 'min_samples_split': 200, 'n_estimators': 200}\n",
      "0.5496357731314202 {'max_depth': 100, 'min_samples_leaf': 50, 'min_samples_split': 200, 'n_estimators': 500}\n",
      "0.5996901526228771 {'max_depth': 100, 'min_samples_leaf': 100, 'min_samples_split': 10, 'n_estimators': 50}\n",
      "0.5955793105963632 {'max_depth': 100, 'min_samples_leaf': 100, 'min_samples_split': 10, 'n_estimators': 100}\n",
      "0.5942532264615297 {'max_depth': 100, 'min_samples_leaf': 100, 'min_samples_split': 10, 'n_estimators': 200}\n",
      "0.5950174061789201 {'max_depth': 100, 'min_samples_leaf': 100, 'min_samples_split': 10, 'n_estimators': 500}\n",
      "0.5979363140802014 {'max_depth': 100, 'min_samples_leaf': 100, 'min_samples_split': 100, 'n_estimators': 50}\n",
      "0.5978369283764366 {'max_depth': 100, 'min_samples_leaf': 100, 'min_samples_split': 100, 'n_estimators': 100}\n",
      "0.5968436851795716 {'max_depth': 100, 'min_samples_leaf': 100, 'min_samples_split': 100, 'n_estimators': 200}\n",
      "0.5962503224835775 {'max_depth': 100, 'min_samples_leaf': 100, 'min_samples_split': 100, 'n_estimators': 500}\n",
      "0.5937037311168823 {'max_depth': 100, 'min_samples_leaf': 100, 'min_samples_split': 200, 'n_estimators': 50}\n",
      "0.5963678939405873 {'max_depth': 100, 'min_samples_leaf': 100, 'min_samples_split': 200, 'n_estimators': 100}\n",
      "0.5975782040306413 {'max_depth': 100, 'min_samples_leaf': 100, 'min_samples_split': 200, 'n_estimators': 200}\n",
      "0.5970816171060735 {'max_depth': 100, 'min_samples_leaf': 100, 'min_samples_split': 200, 'n_estimators': 500}\n",
      "0.3608893852087845 {'bootstrap': False, 'max_depth': 10, 'min_samples_leaf': 2, 'min_samples_split': 10, 'n_estimators': 50}\n",
      "0.3540534727024646 {'bootstrap': False, 'max_depth': 10, 'min_samples_leaf': 2, 'min_samples_split': 10, 'n_estimators': 100}\n",
      "0.3585631116866983 {'bootstrap': False, 'max_depth': 10, 'min_samples_leaf': 2, 'min_samples_split': 10, 'n_estimators': 200}\n",
      "0.3572207649917281 {'bootstrap': False, 'max_depth': 10, 'min_samples_leaf': 2, 'min_samples_split': 10, 'n_estimators': 500}\n",
      "0.40020687557802503 {'bootstrap': False, 'max_depth': 10, 'min_samples_leaf': 2, 'min_samples_split': 100, 'n_estimators': 50}\n",
      "0.3916622507449578 {'bootstrap': False, 'max_depth': 10, 'min_samples_leaf': 2, 'min_samples_split': 100, 'n_estimators': 100}\n",
      "0.3906045775104963 {'bootstrap': False, 'max_depth': 10, 'min_samples_leaf': 2, 'min_samples_split': 100, 'n_estimators': 200}\n",
      "0.3915249786671044 {'bootstrap': False, 'max_depth': 10, 'min_samples_leaf': 2, 'min_samples_split': 100, 'n_estimators': 500}\n",
      "0.42510112948284867 {'bootstrap': False, 'max_depth': 10, 'min_samples_leaf': 2, 'min_samples_split': 200, 'n_estimators': 50}\n",
      "0.42692427319466003 {'bootstrap': False, 'max_depth': 10, 'min_samples_leaf': 2, 'min_samples_split': 200, 'n_estimators': 100}\n",
      "0.43102243014626945 {'bootstrap': False, 'max_depth': 10, 'min_samples_leaf': 2, 'min_samples_split': 200, 'n_estimators': 200}\n",
      "0.426374460525269 {'bootstrap': False, 'max_depth': 10, 'min_samples_leaf': 2, 'min_samples_split': 200, 'n_estimators': 500}\n",
      "0.3840340613594115 {'bootstrap': False, 'max_depth': 10, 'min_samples_leaf': 10, 'min_samples_split': 10, 'n_estimators': 50}\n",
      "0.37603832935370574 {'bootstrap': False, 'max_depth': 10, 'min_samples_leaf': 10, 'min_samples_split': 10, 'n_estimators': 100}\n",
      "0.37969057749563323 {'bootstrap': False, 'max_depth': 10, 'min_samples_leaf': 10, 'min_samples_split': 10, 'n_estimators': 200}\n",
      "0.38074203118006383 {'bootstrap': False, 'max_depth': 10, 'min_samples_leaf': 10, 'min_samples_split': 10, 'n_estimators': 500}\n",
      "0.4055439161696038 {'bootstrap': False, 'max_depth': 10, 'min_samples_leaf': 10, 'min_samples_split': 100, 'n_estimators': 50}\n",
      "0.3987488869012877 {'bootstrap': False, 'max_depth': 10, 'min_samples_leaf': 10, 'min_samples_split': 100, 'n_estimators': 100}\n",
      "0.39626248204465625 {'bootstrap': False, 'max_depth': 10, 'min_samples_leaf': 10, 'min_samples_split': 100, 'n_estimators': 200}\n",
      "0.39798732661969605 {'bootstrap': False, 'max_depth': 10, 'min_samples_leaf': 10, 'min_samples_split': 100, 'n_estimators': 500}\n",
      "0.42735583009184824 {'bootstrap': False, 'max_depth': 10, 'min_samples_leaf': 10, 'min_samples_split': 200, 'n_estimators': 50}\n",
      "0.4278838882456735 {'bootstrap': False, 'max_depth': 10, 'min_samples_leaf': 10, 'min_samples_split': 200, 'n_estimators': 100}\n",
      "0.42849502512009113 {'bootstrap': False, 'max_depth': 10, 'min_samples_leaf': 10, 'min_samples_split': 200, 'n_estimators': 200}\n",
      "0.426419999326982 {'bootstrap': False, 'max_depth': 10, 'min_samples_leaf': 10, 'min_samples_split': 200, 'n_estimators': 500}\n",
      "0.49121422040510415 {'bootstrap': False, 'max_depth': 10, 'min_samples_leaf': 50, 'min_samples_split': 10, 'n_estimators': 50}\n",
      "0.4919712964993301 {'bootstrap': False, 'max_depth': 10, 'min_samples_leaf': 50, 'min_samples_split': 10, 'n_estimators': 100}\n",
      "0.4881772497706471 {'bootstrap': False, 'max_depth': 10, 'min_samples_leaf': 50, 'min_samples_split': 10, 'n_estimators': 200}\n",
      "0.48622902407805246 {'bootstrap': False, 'max_depth': 10, 'min_samples_leaf': 50, 'min_samples_split': 10, 'n_estimators': 500}\n",
      "0.48949732070748936 {'bootstrap': False, 'max_depth': 10, 'min_samples_leaf': 50, 'min_samples_split': 100, 'n_estimators': 50}\n",
      "0.4906793389376937 {'bootstrap': False, 'max_depth': 10, 'min_samples_leaf': 50, 'min_samples_split': 100, 'n_estimators': 100}\n",
      "0.4920244980113508 {'bootstrap': False, 'max_depth': 10, 'min_samples_leaf': 50, 'min_samples_split': 100, 'n_estimators': 200}\n",
      "0.4892113504904026 {'bootstrap': False, 'max_depth': 10, 'min_samples_leaf': 50, 'min_samples_split': 100, 'n_estimators': 500}\n",
      "0.5079068988670931 {'bootstrap': False, 'max_depth': 10, 'min_samples_leaf': 50, 'min_samples_split': 200, 'n_estimators': 50}\n",
      "0.5020296423449309 {'bootstrap': False, 'max_depth': 10, 'min_samples_leaf': 50, 'min_samples_split': 200, 'n_estimators': 100}\n",
      "0.4972244723360479 {'bootstrap': False, 'max_depth': 10, 'min_samples_leaf': 50, 'min_samples_split': 200, 'n_estimators': 200}\n",
      "0.49676841722373766 {'bootstrap': False, 'max_depth': 10, 'min_samples_leaf': 50, 'min_samples_split': 200, 'n_estimators': 500}\n",
      "0.5529717280720375 {'bootstrap': False, 'max_depth': 10, 'min_samples_leaf': 100, 'min_samples_split': 10, 'n_estimators': 50}\n",
      "0.5522264446135968 {'bootstrap': False, 'max_depth': 10, 'min_samples_leaf': 100, 'min_samples_split': 10, 'n_estimators': 100}\n",
      "0.5529247789865921 {'bootstrap': False, 'max_depth': 10, 'min_samples_leaf': 100, 'min_samples_split': 10, 'n_estimators': 200}\n",
      "0.5510754496496699 {'bootstrap': False, 'max_depth': 10, 'min_samples_leaf': 100, 'min_samples_split': 10, 'n_estimators': 500}\n",
      "0.5547303194397306 {'bootstrap': False, 'max_depth': 10, 'min_samples_leaf': 100, 'min_samples_split': 100, 'n_estimators': 50}\n",
      "0.5523973309984825 {'bootstrap': False, 'max_depth': 10, 'min_samples_leaf': 100, 'min_samples_split': 100, 'n_estimators': 100}\n",
      "0.5561544867819336 {'bootstrap': False, 'max_depth': 10, 'min_samples_leaf': 100, 'min_samples_split': 100, 'n_estimators': 200}\n",
      "0.5530392965371069 {'bootstrap': False, 'max_depth': 10, 'min_samples_leaf': 100, 'min_samples_split': 100, 'n_estimators': 500}\n",
      "0.555993581408793 {'bootstrap': False, 'max_depth': 10, 'min_samples_leaf': 100, 'min_samples_split': 200, 'n_estimators': 50}\n",
      "0.5542270807426923 {'bootstrap': False, 'max_depth': 10, 'min_samples_leaf': 100, 'min_samples_split': 200, 'n_estimators': 100}\n",
      "0.5519012325967491 {'bootstrap': False, 'max_depth': 10, 'min_samples_leaf': 100, 'min_samples_split': 200, 'n_estimators': 200}\n",
      "0.5538209839229195 {'bootstrap': False, 'max_depth': 10, 'min_samples_leaf': 100, 'min_samples_split': 200, 'n_estimators': 500}\n",
      "0.3533394557990969 {'bootstrap': False, 'max_depth': 20, 'min_samples_leaf': 2, 'min_samples_split': 10, 'n_estimators': 50}\n",
      "0.3501841018019248 {'bootstrap': False, 'max_depth': 20, 'min_samples_leaf': 2, 'min_samples_split': 10, 'n_estimators': 100}\n",
      "0.3509155719125485 {'bootstrap': False, 'max_depth': 20, 'min_samples_leaf': 2, 'min_samples_split': 10, 'n_estimators': 200}\n",
      "0.35103304290984383 {'bootstrap': False, 'max_depth': 20, 'min_samples_leaf': 2, 'min_samples_split': 10, 'n_estimators': 500}\n",
      "0.3873911700266391 {'bootstrap': False, 'max_depth': 20, 'min_samples_leaf': 2, 'min_samples_split': 100, 'n_estimators': 50}\n",
      "0.3913420083871751 {'bootstrap': False, 'max_depth': 20, 'min_samples_leaf': 2, 'min_samples_split': 100, 'n_estimators': 100}\n",
      "0.3925116208748274 {'bootstrap': False, 'max_depth': 20, 'min_samples_leaf': 2, 'min_samples_split': 100, 'n_estimators': 200}\n",
      "0.3877419640125866 {'bootstrap': False, 'max_depth': 20, 'min_samples_leaf': 2, 'min_samples_split': 100, 'n_estimators': 500}\n",
      "0.4171051883866194 {'bootstrap': False, 'max_depth': 20, 'min_samples_leaf': 2, 'min_samples_split': 200, 'n_estimators': 50}\n",
      "0.4289223489457088 {'bootstrap': False, 'max_depth': 20, 'min_samples_leaf': 2, 'min_samples_split': 200, 'n_estimators': 100}\n",
      "0.42235770077720475 {'bootstrap': False, 'max_depth': 20, 'min_samples_leaf': 2, 'min_samples_split': 200, 'n_estimators': 200}\n",
      "0.4239957225389334 {'bootstrap': False, 'max_depth': 20, 'min_samples_leaf': 2, 'min_samples_split': 200, 'n_estimators': 500}\n",
      "0.37441179816832276 {'bootstrap': False, 'max_depth': 20, 'min_samples_leaf': 10, 'min_samples_split': 10, 'n_estimators': 50}\n",
      "0.37584615913912955 {'bootstrap': False, 'max_depth': 20, 'min_samples_leaf': 10, 'min_samples_split': 10, 'n_estimators': 100}\n",
      "0.37294504408981527 {'bootstrap': False, 'max_depth': 20, 'min_samples_leaf': 10, 'min_samples_split': 10, 'n_estimators': 200}\n",
      "0.3735747574508754 {'bootstrap': False, 'max_depth': 20, 'min_samples_leaf': 10, 'min_samples_split': 10, 'n_estimators': 500}\n",
      "0.3966200080792068 {'bootstrap': False, 'max_depth': 20, 'min_samples_leaf': 10, 'min_samples_split': 100, 'n_estimators': 50}\n",
      "0.396830589978774 {'bootstrap': False, 'max_depth': 20, 'min_samples_leaf': 10, 'min_samples_split': 100, 'n_estimators': 100}\n",
      "0.39664029427257197 {'bootstrap': False, 'max_depth': 20, 'min_samples_leaf': 10, 'min_samples_split': 100, 'n_estimators': 200}\n",
      "0.39483682547484045 {'bootstrap': False, 'max_depth': 20, 'min_samples_leaf': 10, 'min_samples_split': 100, 'n_estimators': 500}\n",
      "0.4264121661837698 {'bootstrap': False, 'max_depth': 20, 'min_samples_leaf': 10, 'min_samples_split': 200, 'n_estimators': 50}\n",
      "0.4299389375074762 {'bootstrap': False, 'max_depth': 20, 'min_samples_leaf': 10, 'min_samples_split': 200, 'n_estimators': 100}\n",
      "0.42583739520312514 {'bootstrap': False, 'max_depth': 20, 'min_samples_leaf': 10, 'min_samples_split': 200, 'n_estimators': 200}\n",
      "0.4275328319892864 {'bootstrap': False, 'max_depth': 20, 'min_samples_leaf': 10, 'min_samples_split': 200, 'n_estimators': 500}\n",
      "0.487355235213443 {'bootstrap': False, 'max_depth': 20, 'min_samples_leaf': 50, 'min_samples_split': 10, 'n_estimators': 50}\n",
      "0.4963154303333159 {'bootstrap': False, 'max_depth': 20, 'min_samples_leaf': 50, 'min_samples_split': 10, 'n_estimators': 100}\n",
      "0.4861613261318545 {'bootstrap': False, 'max_depth': 20, 'min_samples_leaf': 50, 'min_samples_split': 10, 'n_estimators': 200}\n",
      "0.48842285011210107 {'bootstrap': False, 'max_depth': 20, 'min_samples_leaf': 50, 'min_samples_split': 10, 'n_estimators': 500}\n",
      "0.4941847179230236 {'bootstrap': False, 'max_depth': 20, 'min_samples_leaf': 50, 'min_samples_split': 100, 'n_estimators': 50}\n",
      "0.4914432375778148 {'bootstrap': False, 'max_depth': 20, 'min_samples_leaf': 50, 'min_samples_split': 100, 'n_estimators': 100}\n",
      "0.48770462866181813 {'bootstrap': False, 'max_depth': 20, 'min_samples_leaf': 50, 'min_samples_split': 100, 'n_estimators': 200}\n",
      "0.4915993916785511 {'bootstrap': False, 'max_depth': 20, 'min_samples_leaf': 50, 'min_samples_split': 100, 'n_estimators': 500}\n",
      "0.48595208547419233 {'bootstrap': False, 'max_depth': 20, 'min_samples_leaf': 50, 'min_samples_split': 200, 'n_estimators': 50}\n",
      "0.49694926354660085 {'bootstrap': False, 'max_depth': 20, 'min_samples_leaf': 50, 'min_samples_split': 200, 'n_estimators': 100}\n",
      "0.50244631485847 {'bootstrap': False, 'max_depth': 20, 'min_samples_leaf': 50, 'min_samples_split': 200, 'n_estimators': 200}\n",
      "0.49739830002268465 {'bootstrap': False, 'max_depth': 20, 'min_samples_leaf': 50, 'min_samples_split': 200, 'n_estimators': 500}\n",
      "0.545958466908865 {'bootstrap': False, 'max_depth': 20, 'min_samples_leaf': 100, 'min_samples_split': 10, 'n_estimators': 50}\n",
      "0.5543457294602471 {'bootstrap': False, 'max_depth': 20, 'min_samples_leaf': 100, 'min_samples_split': 10, 'n_estimators': 100}\n",
      "0.5538169512848093 {'bootstrap': False, 'max_depth': 20, 'min_samples_leaf': 100, 'min_samples_split': 10, 'n_estimators': 200}\n",
      "0.5524007313564095 {'bootstrap': False, 'max_depth': 20, 'min_samples_leaf': 100, 'min_samples_split': 10, 'n_estimators': 500}\n",
      "0.5505656111721499 {'bootstrap': False, 'max_depth': 20, 'min_samples_leaf': 100, 'min_samples_split': 100, 'n_estimators': 50}\n",
      "0.5526607515403931 {'bootstrap': False, 'max_depth': 20, 'min_samples_leaf': 100, 'min_samples_split': 100, 'n_estimators': 100}\n",
      "0.5527373130618081 {'bootstrap': False, 'max_depth': 20, 'min_samples_leaf': 100, 'min_samples_split': 100, 'n_estimators': 200}\n",
      "0.5533651223106193 {'bootstrap': False, 'max_depth': 20, 'min_samples_leaf': 100, 'min_samples_split': 100, 'n_estimators': 500}\n",
      "0.5511179606839757 {'bootstrap': False, 'max_depth': 20, 'min_samples_leaf': 100, 'min_samples_split': 200, 'n_estimators': 50}\n",
      "0.5576450997144248 {'bootstrap': False, 'max_depth': 20, 'min_samples_leaf': 100, 'min_samples_split': 200, 'n_estimators': 100}\n",
      "0.5515812498207063 {'bootstrap': False, 'max_depth': 20, 'min_samples_leaf': 100, 'min_samples_split': 200, 'n_estimators': 200}\n",
      "0.5535808438723253 {'bootstrap': False, 'max_depth': 20, 'min_samples_leaf': 100, 'min_samples_split': 200, 'n_estimators': 500}\n",
      "0.35002213077011635 {'bootstrap': False, 'max_depth': 50, 'min_samples_leaf': 2, 'min_samples_split': 10, 'n_estimators': 50}\n",
      "0.35255625096880044 {'bootstrap': False, 'max_depth': 50, 'min_samples_leaf': 2, 'min_samples_split': 10, 'n_estimators': 100}\n",
      "0.35188500288623437 {'bootstrap': False, 'max_depth': 50, 'min_samples_leaf': 2, 'min_samples_split': 10, 'n_estimators': 200}\n",
      "0.35126506092134796 {'bootstrap': False, 'max_depth': 50, 'min_samples_leaf': 2, 'min_samples_split': 10, 'n_estimators': 500}\n",
      "0.38909202205774607 {'bootstrap': False, 'max_depth': 50, 'min_samples_leaf': 2, 'min_samples_split': 100, 'n_estimators': 50}\n",
      "0.3863555841972934 {'bootstrap': False, 'max_depth': 50, 'min_samples_leaf': 2, 'min_samples_split': 100, 'n_estimators': 100}\n",
      "0.38684639357000333 {'bootstrap': False, 'max_depth': 50, 'min_samples_leaf': 2, 'min_samples_split': 100, 'n_estimators': 200}\n",
      "0.3878448686224343 {'bootstrap': False, 'max_depth': 50, 'min_samples_leaf': 2, 'min_samples_split': 100, 'n_estimators': 500}\n",
      "0.42840856219075624 {'bootstrap': False, 'max_depth': 50, 'min_samples_leaf': 2, 'min_samples_split': 200, 'n_estimators': 50}\n",
      "0.4292191660228735 {'bootstrap': False, 'max_depth': 50, 'min_samples_leaf': 2, 'min_samples_split': 200, 'n_estimators': 100}\n",
      "0.42681211522771134 {'bootstrap': False, 'max_depth': 50, 'min_samples_leaf': 2, 'min_samples_split': 200, 'n_estimators': 200}\n",
      "0.4241647335987351 {'bootstrap': False, 'max_depth': 50, 'min_samples_leaf': 2, 'min_samples_split': 200, 'n_estimators': 500}\n",
      "0.3773619307156099 {'bootstrap': False, 'max_depth': 50, 'min_samples_leaf': 10, 'min_samples_split': 10, 'n_estimators': 50}\n",
      "0.37608074241592776 {'bootstrap': False, 'max_depth': 50, 'min_samples_leaf': 10, 'min_samples_split': 10, 'n_estimators': 100}\n",
      "0.37422270086337894 {'bootstrap': False, 'max_depth': 50, 'min_samples_leaf': 10, 'min_samples_split': 10, 'n_estimators': 200}\n",
      "0.37672351526333436 {'bootstrap': False, 'max_depth': 50, 'min_samples_leaf': 10, 'min_samples_split': 10, 'n_estimators': 500}\n",
      "0.3941633874590422 {'bootstrap': False, 'max_depth': 50, 'min_samples_leaf': 10, 'min_samples_split': 100, 'n_estimators': 50}\n",
      "0.3951835389315875 {'bootstrap': False, 'max_depth': 50, 'min_samples_leaf': 10, 'min_samples_split': 100, 'n_estimators': 100}\n",
      "0.3937544715357498 {'bootstrap': False, 'max_depth': 50, 'min_samples_leaf': 10, 'min_samples_split': 100, 'n_estimators': 200}\n",
      "0.3938111977112133 {'bootstrap': False, 'max_depth': 50, 'min_samples_leaf': 10, 'min_samples_split': 100, 'n_estimators': 500}\n",
      "0.4316642428628729 {'bootstrap': False, 'max_depth': 50, 'min_samples_leaf': 10, 'min_samples_split': 200, 'n_estimators': 50}\n",
      "0.4275209819850754 {'bootstrap': False, 'max_depth': 50, 'min_samples_leaf': 10, 'min_samples_split': 200, 'n_estimators': 100}\n",
      "0.42980818961883455 {'bootstrap': False, 'max_depth': 50, 'min_samples_leaf': 10, 'min_samples_split': 200, 'n_estimators': 200}\n",
      "0.4276038805919447 {'bootstrap': False, 'max_depth': 50, 'min_samples_leaf': 10, 'min_samples_split': 200, 'n_estimators': 500}\n",
      "0.4902318499087195 {'bootstrap': False, 'max_depth': 50, 'min_samples_leaf': 50, 'min_samples_split': 10, 'n_estimators': 50}\n",
      "0.4885000074367034 {'bootstrap': False, 'max_depth': 50, 'min_samples_leaf': 50, 'min_samples_split': 10, 'n_estimators': 100}\n",
      "0.48583008083871587 {'bootstrap': False, 'max_depth': 50, 'min_samples_leaf': 50, 'min_samples_split': 10, 'n_estimators': 200}\n",
      "0.4888508290616631 {'bootstrap': False, 'max_depth': 50, 'min_samples_leaf': 50, 'min_samples_split': 10, 'n_estimators': 500}\n",
      "0.4981073401235383 {'bootstrap': False, 'max_depth': 50, 'min_samples_leaf': 50, 'min_samples_split': 100, 'n_estimators': 50}\n",
      "0.4917099057776701 {'bootstrap': False, 'max_depth': 50, 'min_samples_leaf': 50, 'min_samples_split': 100, 'n_estimators': 100}\n",
      "0.48606898884348987 {'bootstrap': False, 'max_depth': 50, 'min_samples_leaf': 50, 'min_samples_split': 100, 'n_estimators': 200}\n",
      "0.4905884639463358 {'bootstrap': False, 'max_depth': 50, 'min_samples_leaf': 50, 'min_samples_split': 100, 'n_estimators': 500}\n",
      "0.5057478957846847 {'bootstrap': False, 'max_depth': 50, 'min_samples_leaf': 50, 'min_samples_split': 200, 'n_estimators': 50}\n",
      "0.5003199829593519 {'bootstrap': False, 'max_depth': 50, 'min_samples_leaf': 50, 'min_samples_split': 200, 'n_estimators': 100}\n",
      "0.4990200007363106 {'bootstrap': False, 'max_depth': 50, 'min_samples_leaf': 50, 'min_samples_split': 200, 'n_estimators': 200}\n",
      "0.49970996745562757 {'bootstrap': False, 'max_depth': 50, 'min_samples_leaf': 50, 'min_samples_split': 200, 'n_estimators': 500}\n",
      "0.5511804351562468 {'bootstrap': False, 'max_depth': 50, 'min_samples_leaf': 100, 'min_samples_split': 10, 'n_estimators': 50}\n",
      "0.5519377710992198 {'bootstrap': False, 'max_depth': 50, 'min_samples_leaf': 100, 'min_samples_split': 10, 'n_estimators': 100}\n",
      "0.551861080996094 {'bootstrap': False, 'max_depth': 50, 'min_samples_leaf': 100, 'min_samples_split': 10, 'n_estimators': 200}\n",
      "0.551448227785508 {'bootstrap': False, 'max_depth': 50, 'min_samples_leaf': 100, 'min_samples_split': 10, 'n_estimators': 500}\n",
      "0.5461200882070486 {'bootstrap': False, 'max_depth': 50, 'min_samples_leaf': 100, 'min_samples_split': 100, 'n_estimators': 50}\n",
      "0.5529267556872391 {'bootstrap': False, 'max_depth': 50, 'min_samples_leaf': 100, 'min_samples_split': 100, 'n_estimators': 100}\n",
      "0.5536946439410748 {'bootstrap': False, 'max_depth': 50, 'min_samples_leaf': 100, 'min_samples_split': 100, 'n_estimators': 200}\n",
      "0.5536692966057363 {'bootstrap': False, 'max_depth': 50, 'min_samples_leaf': 100, 'min_samples_split': 100, 'n_estimators': 500}\n",
      "0.5532907482653106 {'bootstrap': False, 'max_depth': 50, 'min_samples_leaf': 100, 'min_samples_split': 200, 'n_estimators': 50}\n",
      "0.5529038678009736 {'bootstrap': False, 'max_depth': 50, 'min_samples_leaf': 100, 'min_samples_split': 200, 'n_estimators': 100}\n",
      "0.5549984934445426 {'bootstrap': False, 'max_depth': 50, 'min_samples_leaf': 100, 'min_samples_split': 200, 'n_estimators': 200}\n",
      "0.5535699581311391 {'bootstrap': False, 'max_depth': 50, 'min_samples_leaf': 100, 'min_samples_split': 200, 'n_estimators': 500}\n",
      "0.3467369398947135 {'bootstrap': False, 'max_depth': 100, 'min_samples_leaf': 2, 'min_samples_split': 10, 'n_estimators': 50}\n",
      "0.3490410335741383 {'bootstrap': False, 'max_depth': 100, 'min_samples_leaf': 2, 'min_samples_split': 10, 'n_estimators': 100}\n",
      "0.35272408252806464 {'bootstrap': False, 'max_depth': 100, 'min_samples_leaf': 2, 'min_samples_split': 10, 'n_estimators': 200}\n",
      "0.35037636591993965 {'bootstrap': False, 'max_depth': 100, 'min_samples_leaf': 2, 'min_samples_split': 10, 'n_estimators': 500}\n",
      "0.39454940027720387 {'bootstrap': False, 'max_depth': 100, 'min_samples_leaf': 2, 'min_samples_split': 100, 'n_estimators': 50}\n",
      "0.3885017599881593 {'bootstrap': False, 'max_depth': 100, 'min_samples_leaf': 2, 'min_samples_split': 100, 'n_estimators': 100}\n",
      "0.38423913566758755 {'bootstrap': False, 'max_depth': 100, 'min_samples_leaf': 2, 'min_samples_split': 100, 'n_estimators': 200}\n",
      "0.3851627063377628 {'bootstrap': False, 'max_depth': 100, 'min_samples_leaf': 2, 'min_samples_split': 100, 'n_estimators': 500}\n",
      "0.43077427299965704 {'bootstrap': False, 'max_depth': 100, 'min_samples_leaf': 2, 'min_samples_split': 200, 'n_estimators': 50}\n",
      "0.4268739333773619 {'bootstrap': False, 'max_depth': 100, 'min_samples_leaf': 2, 'min_samples_split': 200, 'n_estimators': 100}\n",
      "0.42533394600977786 {'bootstrap': False, 'max_depth': 100, 'min_samples_leaf': 2, 'min_samples_split': 200, 'n_estimators': 200}\n",
      "0.4264950765323556 {'bootstrap': False, 'max_depth': 100, 'min_samples_leaf': 2, 'min_samples_split': 200, 'n_estimators': 500}\n",
      "0.3723565949181917 {'bootstrap': False, 'max_depth': 100, 'min_samples_leaf': 10, 'min_samples_split': 10, 'n_estimators': 50}\n",
      "0.37053345600731724 {'bootstrap': False, 'max_depth': 100, 'min_samples_leaf': 10, 'min_samples_split': 10, 'n_estimators': 100}\n",
      "0.3754840034657145 {'bootstrap': False, 'max_depth': 100, 'min_samples_leaf': 10, 'min_samples_split': 10, 'n_estimators': 200}\n",
      "0.37332350795292285 {'bootstrap': False, 'max_depth': 100, 'min_samples_leaf': 10, 'min_samples_split': 10, 'n_estimators': 500}\n",
      "0.3901463656709305 {'bootstrap': False, 'max_depth': 100, 'min_samples_leaf': 10, 'min_samples_split': 100, 'n_estimators': 50}\n",
      "0.39786497643758917 {'bootstrap': False, 'max_depth': 100, 'min_samples_leaf': 10, 'min_samples_split': 100, 'n_estimators': 100}\n",
      "0.3970902471608917 {'bootstrap': False, 'max_depth': 100, 'min_samples_leaf': 10, 'min_samples_split': 100, 'n_estimators': 200}\n",
      "0.39756012609454267 {'bootstrap': False, 'max_depth': 100, 'min_samples_leaf': 10, 'min_samples_split': 100, 'n_estimators': 500}\n",
      "0.43358419295752393 {'bootstrap': False, 'max_depth': 100, 'min_samples_leaf': 10, 'min_samples_split': 200, 'n_estimators': 50}\n",
      "0.4281494759873959 {'bootstrap': False, 'max_depth': 100, 'min_samples_leaf': 10, 'min_samples_split': 200, 'n_estimators': 100}\n",
      "0.42611150304979556 {'bootstrap': False, 'max_depth': 100, 'min_samples_leaf': 10, 'min_samples_split': 200, 'n_estimators': 200}\n",
      "0.4280395430641177 {'bootstrap': False, 'max_depth': 100, 'min_samples_leaf': 10, 'min_samples_split': 200, 'n_estimators': 500}\n",
      "0.4814260042411654 {'bootstrap': False, 'max_depth': 100, 'min_samples_leaf': 50, 'min_samples_split': 10, 'n_estimators': 50}\n",
      "0.48912471932879803 {'bootstrap': False, 'max_depth': 100, 'min_samples_leaf': 50, 'min_samples_split': 10, 'n_estimators': 100}\n",
      "0.48699874752223643 {'bootstrap': False, 'max_depth': 100, 'min_samples_leaf': 50, 'min_samples_split': 10, 'n_estimators': 200}\n",
      "0.4914436020438731 {'bootstrap': False, 'max_depth': 100, 'min_samples_leaf': 50, 'min_samples_split': 10, 'n_estimators': 500}\n",
      "0.4882262263096906 {'bootstrap': False, 'max_depth': 100, 'min_samples_leaf': 50, 'min_samples_split': 100, 'n_estimators': 50}\n",
      "0.49621995218982534 {'bootstrap': False, 'max_depth': 100, 'min_samples_leaf': 50, 'min_samples_split': 100, 'n_estimators': 100}\n",
      "0.4925725454001586 {'bootstrap': False, 'max_depth': 100, 'min_samples_leaf': 50, 'min_samples_split': 100, 'n_estimators': 200}\n",
      "0.4899673585901437 {'bootstrap': False, 'max_depth': 100, 'min_samples_leaf': 50, 'min_samples_split': 100, 'n_estimators': 500}\n",
      "0.4932147491558701 {'bootstrap': False, 'max_depth': 100, 'min_samples_leaf': 50, 'min_samples_split': 200, 'n_estimators': 50}\n",
      "0.49770131841596194 {'bootstrap': False, 'max_depth': 100, 'min_samples_leaf': 50, 'min_samples_split': 200, 'n_estimators': 100}\n",
      "0.49731815820810293 {'bootstrap': False, 'max_depth': 100, 'min_samples_leaf': 50, 'min_samples_split': 200, 'n_estimators': 200}\n",
      "0.497454759860745 {'bootstrap': False, 'max_depth': 100, 'min_samples_leaf': 50, 'min_samples_split': 200, 'n_estimators': 500}\n",
      "0.5590765872511009 {'bootstrap': False, 'max_depth': 100, 'min_samples_leaf': 100, 'min_samples_split': 10, 'n_estimators': 50}\n",
      "0.5520787760244509 {'bootstrap': False, 'max_depth': 100, 'min_samples_leaf': 100, 'min_samples_split': 10, 'n_estimators': 100}\n",
      "0.5537697032469241 {'bootstrap': False, 'max_depth': 100, 'min_samples_leaf': 100, 'min_samples_split': 10, 'n_estimators': 200}\n",
      "0.5536556750902711 {'bootstrap': False, 'max_depth': 100, 'min_samples_leaf': 100, 'min_samples_split': 10, 'n_estimators': 500}\n",
      "0.55909569886928 {'bootstrap': False, 'max_depth': 100, 'min_samples_leaf': 100, 'min_samples_split': 100, 'n_estimators': 50}\n",
      "0.5523052004317894 {'bootstrap': False, 'max_depth': 100, 'min_samples_leaf': 100, 'min_samples_split': 100, 'n_estimators': 100}\n",
      "0.5521698228291885 {'bootstrap': False, 'max_depth': 100, 'min_samples_leaf': 100, 'min_samples_split': 100, 'n_estimators': 200}\n",
      "0.553242228257251 {'bootstrap': False, 'max_depth': 100, 'min_samples_leaf': 100, 'min_samples_split': 100, 'n_estimators': 500}\n",
      "0.5540698989443559 {'bootstrap': False, 'max_depth': 100, 'min_samples_leaf': 100, 'min_samples_split': 200, 'n_estimators': 50}\n",
      "0.5495729350846156 {'bootstrap': False, 'max_depth': 100, 'min_samples_leaf': 100, 'min_samples_split': 200, 'n_estimators': 100}\n",
      "0.5518258614793649 {'bootstrap': False, 'max_depth': 100, 'min_samples_leaf': 100, 'min_samples_split': 200, 'n_estimators': 200}\n",
      "0.5523701013505963 {'bootstrap': False, 'max_depth': 100, 'min_samples_leaf': 100, 'min_samples_split': 200, 'n_estimators': 500}\n"
     ]
    }
   ],
   "source": [
    "griddy_boi(rf,rf_param_grid)"
   ]
  },
  {
   "cell_type": "code",
   "execution_count": 67,
   "metadata": {},
   "outputs": [],
   "source": [
    "rfc = RandomForestClassifier(bootstrap=False,n_estimators=200,max_depth=20,min_samples_split=10,min_samples_leaf=2)"
   ]
  },
  {
   "cell_type": "code",
   "execution_count": 118,
   "metadata": {},
   "outputs": [
    {
     "data": {
      "text/plain": [
       "0.2897179763700222"
      ]
     },
     "execution_count": 118,
     "metadata": {},
     "output_type": "execute_result"
    }
   ],
   "source": [
    "rfc_score,rfc_val_pred = model_pred(rfc)\n",
    "rfc_score"
   ]
  },
  {
   "cell_type": "code",
   "execution_count": 74,
   "metadata": {},
   "outputs": [],
   "source": [
    "rfc_predis = predis(rfc)"
   ]
  },
  {
   "cell_type": "code",
   "execution_count": 75,
   "metadata": {},
   "outputs": [
    {
     "data": {
      "text/plain": [
       "array([[0.89662328, 0.10337672],\n",
       "       [0.20751853, 0.79248147],\n",
       "       [0.88765675, 0.11234325],\n",
       "       ...,\n",
       "       [0.99270833, 0.00729167],\n",
       "       [0.62268606, 0.37731394],\n",
       "       [0.81506944, 0.18493056]])"
      ]
     },
     "execution_count": 75,
     "metadata": {},
     "output_type": "execute_result"
    }
   ],
   "source": [
    "rfc_predis"
   ]
  },
  {
   "cell_type": "markdown",
   "metadata": {},
   "source": [
    "## Extra Trees "
   ]
  },
  {
   "cell_type": "code",
   "execution_count": 76,
   "metadata": {},
   "outputs": [],
   "source": [
    "etc = ExtraTreesClassifier(bootstrap=False,n_estimators=200,max_depth=20,min_samples_split=10,min_samples_leaf=2)"
   ]
  },
  {
   "cell_type": "code",
   "execution_count": 119,
   "metadata": {},
   "outputs": [
    {
     "data": {
      "text/plain": [
       "0.3128000577968881"
      ]
     },
     "execution_count": 119,
     "metadata": {},
     "output_type": "execute_result"
    }
   ],
   "source": [
    "etc_score,etc_val_pred = model_pred(etc)\n",
    "etc_score"
   ]
  },
  {
   "cell_type": "code",
   "execution_count": 78,
   "metadata": {},
   "outputs": [
    {
     "data": {
      "text/plain": [
       "array([[0.9721884 , 0.0278116 ],\n",
       "       [0.20025095, 0.79974905],\n",
       "       [0.92237262, 0.07762738],\n",
       "       ...,\n",
       "       [0.98316434, 0.01683566],\n",
       "       [0.81219816, 0.18780184],\n",
       "       [0.83964151, 0.16035849]])"
      ]
     },
     "execution_count": 78,
     "metadata": {},
     "output_type": "execute_result"
    }
   ],
   "source": [
    "etc_predis = predis(etc)\n",
    "etc_predis"
   ]
  },
  {
   "cell_type": "markdown",
   "metadata": {},
   "source": [
    "## XGBoost"
   ]
  },
  {
   "cell_type": "code",
   "execution_count": 113,
   "metadata": {},
   "outputs": [],
   "source": [
    "xgbc = XGBClassifier(learning_rate=0.1,n_estimators=100)"
   ]
  },
  {
   "cell_type": "code",
   "execution_count": 120,
   "metadata": {},
   "outputs": [
    {
     "data": {
      "text/plain": [
       "0.3161904952653854"
      ]
     },
     "execution_count": 120,
     "metadata": {},
     "output_type": "execute_result"
    }
   ],
   "source": [
    "xgbc_score,xgbc_val_pred = model_pred(etc)\n",
    "xgbc_score"
   ]
  },
  {
   "cell_type": "code",
   "execution_count": 115,
   "metadata": {
    "scrolled": true
   },
   "outputs": [
    {
     "data": {
      "text/plain": [
       "array([[0.98822486, 0.01177513],\n",
       "       [0.13545352, 0.8645465 ],\n",
       "       [0.99132305, 0.00867697],\n",
       "       ...,\n",
       "       [0.99515295, 0.00484702],\n",
       "       [0.9797    , 0.02029999],\n",
       "       [0.95567816, 0.04432185]], dtype=float32)"
      ]
     },
     "execution_count": 115,
     "metadata": {},
     "output_type": "execute_result"
    }
   ],
   "source": [
    "xgbc_predis = predis(xgbc)\n",
    "xgbc_predis"
   ]
  },
  {
   "cell_type": "markdown",
   "metadata": {},
   "source": [
    "## LightGBM"
   ]
  },
  {
   "cell_type": "code",
   "execution_count": 93,
   "metadata": {},
   "outputs": [],
   "source": [
    "lgbm = LGBMClassifier()"
   ]
  },
  {
   "cell_type": "code",
   "execution_count": 94,
   "metadata": {},
   "outputs": [],
   "source": [
    "lgbm_param_grid = [\n",
    "    {'learning_rate':[0.001,0.01,0.1,1,10]},\n",
    "    {'learning_rate':[0.001,0.01,0.1,1,10],'n_estimators':[50,100,200,500]},\n",
    "]"
   ]
  },
  {
   "cell_type": "code",
   "execution_count": 95,
   "metadata": {},
   "outputs": [
    {
     "name": "stdout",
     "output_type": "stream",
     "text": [
      "0.5958526603936507 {'learning_rate': 0.001}\n",
      "0.39646503353094503 {'learning_rate': 0.01}\n",
      "0.3950887791007587 {'learning_rate': 0.1}\n",
      "1.1161549840540064 {'learning_rate': 1}\n",
      "15.898357799991345 {'learning_rate': 10}\n",
      "0.6179057001941022 {'learning_rate': 0.001, 'n_estimators': 50}\n",
      "0.5958526603936507 {'learning_rate': 0.001, 'n_estimators': 100}\n",
      "0.557322716573081 {'learning_rate': 0.001, 'n_estimators': 200}\n",
      "0.47320588478738385 {'learning_rate': 0.001, 'n_estimators': 500}\n",
      "0.4729549019902251 {'learning_rate': 0.01, 'n_estimators': 50}\n",
      "0.39646503353094503 {'learning_rate': 0.01, 'n_estimators': 100}\n",
      "0.3428959445584601 {'learning_rate': 0.01, 'n_estimators': 200}\n",
      "0.34203502165311045 {'learning_rate': 0.01, 'n_estimators': 500}\n",
      "0.3401177660105865 {'learning_rate': 0.1, 'n_estimators': 50}\n",
      "0.3950887791007587 {'learning_rate': 0.1, 'n_estimators': 100}\n",
      "0.5551192935290332 {'learning_rate': 0.1, 'n_estimators': 200}\n",
      "0.9412216903206015 {'learning_rate': 0.1, 'n_estimators': 500}\n",
      "1.0544880981294857 {'learning_rate': 1, 'n_estimators': 50}\n",
      "1.1161549840540064 {'learning_rate': 1, 'n_estimators': 100}\n",
      "1.1485676036398782 {'learning_rate': 1, 'n_estimators': 200}\n",
      "1.1709440698719102 {'learning_rate': 1, 'n_estimators': 500}\n",
      "15.898357799991345 {'learning_rate': 10, 'n_estimators': 50}\n",
      "15.898357799991345 {'learning_rate': 10, 'n_estimators': 100}\n",
      "15.898357799991345 {'learning_rate': 10, 'n_estimators': 200}\n",
      "15.898357799991345 {'learning_rate': 10, 'n_estimators': 500}\n"
     ]
    }
   ],
   "source": [
    "griddy_boi(lgbm,lgbm_param_grid)"
   ]
  },
  {
   "cell_type": "code",
   "execution_count": 100,
   "metadata": {},
   "outputs": [],
   "source": [
    "lgbmc = LGBMClassifier(learning_rate=0.1,n_estimators=100)"
   ]
  },
  {
   "cell_type": "code",
   "execution_count": 121,
   "metadata": {},
   "outputs": [
    {
     "data": {
      "text/plain": [
       "0.2945967207314328"
      ]
     },
     "execution_count": 121,
     "metadata": {},
     "output_type": "execute_result"
    }
   ],
   "source": [
    "lgbmc_score,lgbmc_val_pred = model_pred(lgbmc)\n",
    "lgbmc_score"
   ]
  },
  {
   "cell_type": "code",
   "execution_count": 103,
   "metadata": {},
   "outputs": [
    {
     "data": {
      "text/plain": [
       "array([[9.99721270e-01, 2.78730136e-04],\n",
       "       [7.04919801e-02, 9.29508020e-01],\n",
       "       [9.98543548e-01, 1.45645195e-03],\n",
       "       ...,\n",
       "       [9.99284210e-01, 7.15789839e-04],\n",
       "       [9.98955035e-01, 1.04496464e-03],\n",
       "       [9.95352749e-01, 4.64725101e-03]])"
      ]
     },
     "execution_count": 103,
     "metadata": {},
     "output_type": "execute_result"
    }
   ],
   "source": [
    "lgbmc_predis = predis(lgbmc)\n",
    "lgbmc_predis"
   ]
  },
  {
   "cell_type": "code",
   "execution_count": 122,
   "metadata": {},
   "outputs": [],
   "source": [
    "boosted_predis = 0.1*dtc_predis+0.15*rfc_predis+0.15*etc_predis+0.3*xgbc_predis+0.3*lgbmc_predis"
   ]
  },
  {
   "cell_type": "code",
   "execution_count": 123,
   "metadata": {},
   "outputs": [
    {
     "data": {
      "text/plain": [
       "array([[0.97670562, 0.02329441],\n",
       "       [0.13101359, 0.86898642],\n",
       "       [0.9684644 , 0.03153562],\n",
       "       ...,\n",
       "       [0.99471206, 0.00528794],\n",
       "       [0.90882917, 0.09117085],\n",
       "       [0.93351594, 0.06648409]])"
      ]
     },
     "execution_count": 123,
     "metadata": {},
     "output_type": "execute_result"
    }
   ],
   "source": [
    "boosted_predis"
   ]
  },
  {
   "cell_type": "code",
   "execution_count": 124,
   "metadata": {},
   "outputs": [],
   "source": [
    "boost_predis = pd.DataFrame(boosted_predis,columns=['1','2'])\n",
    "\n",
    "filename = 'submit_boosted.xlsx'\n",
    "boost_predis.to_excel(filename,index=False)"
   ]
  },
  {
   "cell_type": "code",
   "execution_count": null,
   "metadata": {},
   "outputs": [],
   "source": []
  }
 ],
 "metadata": {
  "kernelspec": {
   "display_name": "Python 3",
   "language": "python",
   "name": "python3"
  },
  "language_info": {
   "codemirror_mode": {
    "name": "ipython",
    "version": 3
   },
   "file_extension": ".py",
   "mimetype": "text/x-python",
   "name": "python",
   "nbconvert_exporter": "python",
   "pygments_lexer": "ipython3",
   "version": "3.7.3"
  }
 },
 "nbformat": 4,
 "nbformat_minor": 2
}
